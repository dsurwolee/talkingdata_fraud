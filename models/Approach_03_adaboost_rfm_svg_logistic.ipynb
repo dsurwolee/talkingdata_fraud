{
 "cells": [
  {
   "cell_type": "code",
   "execution_count": null,
   "metadata": {
    "collapsed": true
   },
   "outputs": [],
   "source": [
    "import pandas as pd\n",
    "import matplotlib.pyplot as plt\n",
    "%matplotlib inline \n",
    "\n",
    "from sklearn.ensemble import RandomForestClassifier        \n",
    "from sklearn.linear_model import LogisticRegression, \\\n",
    "                                 SGDClassifier \n",
    "# import xgboost as xgb\n",
    "    \n",
    "\n",
    "# Instantiate models\n",
    "logit = LogisticRegression(penalty='l1', n_jobs=1)\n",
    "rfm = RandomForestClassifier(n_jobs=1)\n",
    "sgd = SGDClassifier(n_jobs=1)"
   ]
  },
  {
   "cell_type": "code",
   "execution_count": 6,
   "metadata": {},
   "outputs": [],
   "source": [
    "datapath = '/Users/daniellee/Desktop/Data/Datasets/talkingdata_fraud/'\n",
    "train_X = pd.read_hdf(datapath+'m3_features/a3_train.hdf')\n",
    "train_y = pd.read_pickle(datapath+'train_y_int8')"
   ]
  },
  {
   "cell_type": "code",
   "execution_count": 4,
   "metadata": {},
   "outputs": [
    {
     "data": {
      "text/plain": [
       "is_attributed    uint8\n",
       "dtype: object"
      ]
     },
     "execution_count": 4,
     "metadata": {},
     "output_type": "execute_result"
    }
   ],
   "source": [
    "train_y.dtypes"
   ]
  },
  {
   "cell_type": "code",
   "execution_count": 7,
   "metadata": {},
   "outputs": [],
   "source": [
    "train_ip = train_X['ip']\n",
    "train_X = train_X.drop('ip', axis=1)\n",
    "\n",
    "# test_ip = test_X['ip']\n",
    "# test_X = test_X.drop('ip', axis=1)"
   ]
  },
  {
   "cell_type": "code",
   "execution_count": null,
   "metadata": {
    "collapsed": true
   },
   "outputs": [],
   "source": [
    "# if set(test_X.columns) == set(train_X.columns):\n",
    "    \n",
    "from sklearn.externals import joblib\n",
    "\n",
    "# Train Models\n",
    "logit.fit(train_X, train_y)\n",
    "rfm.fit(train_X, train_y)\n",
    "sgd.fit(train_X, train_y)\n",
    "\n",
    "# Persist models\n",
    "persist_loc = '/Users/daniellee/Dropbox/Jupyter/Kaggle/talkingdata_fraud/model_persists/'\n",
    "mod_name_comb = [[logit, rfm, sgd], ['logit', 'rfm', 'xgd']]\n",
    "for mod in zip(*mod_name_comb):\n",
    "    joblib.dumps(mod, 'a3_model_{}.pk1'.format(mod[1]))"
   ]
  },
  {
   "cell_type": "code",
   "execution_count": null,
   "metadata": {
    "collapsed": true
   },
   "outputs": [],
   "source": [
    "# Predict probability of attribution for each model\n",
    "\n",
    "test_X = pd.read_pickle(datapath+'m3_features/a3_test')\n",
    "\n",
    "def model_predict(mod, name, test):\n",
    "    print('Predicting using {}'.format(name))\n",
    "    pred_prob = mod.predict_proba(test)\n",
    "    print('Prediction complete...\\n')\n",
    "    return pred_prob\n",
    "\n",
    "logit_pred, rfm_pred, sgd_pred = (\n",
    "                    [model_predict(mod, name, test_X) for mod, name in zip(*mod_name_comb)]\n",
    ")\n",
    "\n",
    "# Create submission file per each model prediction \n",
    "submission = pd.read_pickle(datapath+'submission_reduced.csv')\n",
    "\n",
    "for pred, name in zip([logit_pred, rfm_pred, sgd_pred],['logit', 'rfm', 'xgd']):\n",
    "    submission['is_attributed'] = pred\n",
    "    submission.to_csv(datafile'submissions/a3_submission_{}.csv'.format(name))"
   ]
  },
  {
   "cell_type": "code",
   "execution_count": null,
   "metadata": {
    "collapsed": true
   },
   "outputs": [],
   "source": []
  },
  {
   "cell_type": "code",
   "execution_count": null,
   "metadata": {
    "collapsed": true
   },
   "outputs": [],
   "source": []
  },
  {
   "cell_type": "code",
   "execution_count": null,
   "metadata": {
    "collapsed": true
   },
   "outputs": [],
   "source": []
  },
  {
   "cell_type": "code",
   "execution_count": null,
   "metadata": {
    "collapsed": true
   },
   "outputs": [],
   "source": []
  },
  {
   "cell_type": "code",
   "execution_count": null,
   "metadata": {
    "collapsed": true
   },
   "outputs": [],
   "source": []
  },
  {
   "cell_type": "code",
   "execution_count": null,
   "metadata": {
    "collapsed": true
   },
   "outputs": [],
   "source": []
  },
  {
   "cell_type": "code",
   "execution_count": null,
   "metadata": {
    "collapsed": true
   },
   "outputs": [],
   "source": []
  },
  {
   "cell_type": "code",
   "execution_count": null,
   "metadata": {
    "collapsed": true
   },
   "outputs": [],
   "source": []
  },
  {
   "cell_type": "code",
   "execution_count": null,
   "metadata": {
    "collapsed": true
   },
   "outputs": [],
   "source": []
  }
 ],
 "metadata": {
  "kernelspec": {
   "display_name": "Python 3",
   "language": "python",
   "name": "python3"
  },
  "language_info": {
   "codemirror_mode": {
    "name": "ipython",
    "version": 3
   },
   "file_extension": ".py",
   "mimetype": "text/x-python",
   "name": "python",
   "nbconvert_exporter": "python",
   "pygments_lexer": "ipython3",
   "version": "3.6.3"
  }
 },
 "nbformat": 4,
 "nbformat_minor": 2
}
