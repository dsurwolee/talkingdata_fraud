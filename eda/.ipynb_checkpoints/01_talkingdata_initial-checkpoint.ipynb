{
 "cells": [
  {
   "cell_type": "code",
   "execution_count": 255,
   "metadata": {
    "collapsed": true
   },
   "outputs": [],
   "source": [
    "import pandas as pd\n",
    "import numpy as np\n",
    "import matplotlib.pyplot as plt\n",
    "%matplotlib inline\n",
    "\n",
    "datapath = '/Users/daniellee/Desktop/Data/Datasets/talkingdata_fraud/'"
   ]
  },
  {
   "cell_type": "code",
   "execution_count": 256,
   "metadata": {
    "scrolled": false
   },
   "outputs": [
    {
     "data": {
      "text/html": [
       "<div>\n",
       "<style>\n",
       "    .dataframe thead tr:only-child th {\n",
       "        text-align: right;\n",
       "    }\n",
       "\n",
       "    .dataframe thead th {\n",
       "        text-align: left;\n",
       "    }\n",
       "\n",
       "    .dataframe tbody tr th {\n",
       "        vertical-align: top;\n",
       "    }\n",
       "</style>\n",
       "<table border=\"1\" class=\"dataframe\">\n",
       "  <thead>\n",
       "    <tr style=\"text-align: right;\">\n",
       "      <th></th>\n",
       "      <th>ip</th>\n",
       "      <th>app</th>\n",
       "      <th>device</th>\n",
       "      <th>os</th>\n",
       "      <th>channel</th>\n",
       "      <th>click_time</th>\n",
       "      <th>attributed_time</th>\n",
       "      <th>is_attributed</th>\n",
       "    </tr>\n",
       "  </thead>\n",
       "  <tbody>\n",
       "    <tr>\n",
       "      <th>0</th>\n",
       "      <td>83230</td>\n",
       "      <td>3</td>\n",
       "      <td>1</td>\n",
       "      <td>13</td>\n",
       "      <td>379</td>\n",
       "      <td>2017-11-06 14:32:21</td>\n",
       "      <td>NaN</td>\n",
       "      <td>0</td>\n",
       "    </tr>\n",
       "    <tr>\n",
       "      <th>1</th>\n",
       "      <td>17357</td>\n",
       "      <td>3</td>\n",
       "      <td>1</td>\n",
       "      <td>19</td>\n",
       "      <td>379</td>\n",
       "      <td>2017-11-06 14:33:34</td>\n",
       "      <td>NaN</td>\n",
       "      <td>0</td>\n",
       "    </tr>\n",
       "    <tr>\n",
       "      <th>2</th>\n",
       "      <td>35810</td>\n",
       "      <td>3</td>\n",
       "      <td>1</td>\n",
       "      <td>13</td>\n",
       "      <td>379</td>\n",
       "      <td>2017-11-06 14:34:12</td>\n",
       "      <td>NaN</td>\n",
       "      <td>0</td>\n",
       "    </tr>\n",
       "    <tr>\n",
       "      <th>3</th>\n",
       "      <td>45745</td>\n",
       "      <td>14</td>\n",
       "      <td>1</td>\n",
       "      <td>13</td>\n",
       "      <td>478</td>\n",
       "      <td>2017-11-06 14:34:52</td>\n",
       "      <td>NaN</td>\n",
       "      <td>0</td>\n",
       "    </tr>\n",
       "    <tr>\n",
       "      <th>4</th>\n",
       "      <td>161007</td>\n",
       "      <td>3</td>\n",
       "      <td>1</td>\n",
       "      <td>13</td>\n",
       "      <td>379</td>\n",
       "      <td>2017-11-06 14:35:08</td>\n",
       "      <td>NaN</td>\n",
       "      <td>0</td>\n",
       "    </tr>\n",
       "  </tbody>\n",
       "</table>\n",
       "</div>"
      ],
      "text/plain": [
       "       ip  app  device  os  channel           click_time attributed_time  \\\n",
       "0   83230    3       1  13      379  2017-11-06 14:32:21             NaN   \n",
       "1   17357    3       1  19      379  2017-11-06 14:33:34             NaN   \n",
       "2   35810    3       1  13      379  2017-11-06 14:34:12             NaN   \n",
       "3   45745   14       1  13      478  2017-11-06 14:34:52             NaN   \n",
       "4  161007    3       1  13      379  2017-11-06 14:35:08             NaN   \n",
       "\n",
       "   is_attributed  \n",
       "0              0  \n",
       "1              0  \n",
       "2              0  \n",
       "3              0  \n",
       "4              0  "
      ]
     },
     "execution_count": 256,
     "metadata": {},
     "output_type": "execute_result"
    }
   ],
   "source": [
    "train = pd.read_csv(datapath+'train.csv', nrows=8000000)\n",
    "test = pd.read_csv(datapath+'test.csv')\n",
    "train.head()"
   ]
  },
  {
   "cell_type": "code",
   "execution_count": 7,
   "metadata": {},
   "outputs": [
    {
     "data": {
      "text/plain": [
       "Index(['ip', 'app', 'device', 'os', 'channel', 'click_time', 'attributed_time',\n",
       "       'is_attributed'],\n",
       "      dtype='object')"
      ]
     },
     "execution_count": 7,
     "metadata": {},
     "output_type": "execute_result"
    }
   ],
   "source": [
    "train.columns"
   ]
  },
  {
   "cell_type": "code",
   "execution_count": 3,
   "metadata": {},
   "outputs": [
    {
     "name": "stdout",
     "output_type": "stream",
     "text": [
      "app 278\n",
      "device 490\n",
      "os 211\n",
      "channel 158\n"
     ]
    }
   ],
   "source": [
    "for col in ['app', 'device', 'os', 'channel']:\n",
    "    print(col, train[col].unique().shape[0])"
   ]
  },
  {
   "cell_type": "code",
   "execution_count": 6,
   "metadata": {},
   "outputs": [
    {
     "data": {
      "text/plain": [
       "0    0.998298\n",
       "1    0.001702\n",
       "Name: is_attributed, dtype: float64"
      ]
     },
     "execution_count": 6,
     "metadata": {},
     "output_type": "execute_result"
    }
   ],
   "source": [
    "train['is_attributed'].value_counts() / train.shape[0]"
   ]
  },
  {
   "cell_type": "code",
   "execution_count": null,
   "metadata": {
    "collapsed": true
   },
   "outputs": [],
   "source": [
    "# Build a random forest model using a sample of million datapoints \n",
    "\n",
    "sample_ids = np.random.choice(train['ip'].unique(), size=int(277396*0.05))\n",
    "train_million = train[train.ip.isin(sample_ids)]"
   ]
  },
  {
   "cell_type": "markdown",
   "metadata": {},
   "source": [
    "## EDA"
   ]
  },
  {
   "cell_type": "code",
   "execution_count": null,
   "metadata": {
    "collapsed": true
   },
   "outputs": [],
   "source": [
    "train_million.is_attributed.head()#.mean()"
   ]
  },
  {
   "cell_type": "code",
   "execution_count": null,
   "metadata": {
    "collapsed": true
   },
   "outputs": [],
   "source": [
    "train_million.query('is_attributed == 1')['app'].value_counts().head(10)"
   ]
  },
  {
   "cell_type": "code",
   "execution_count": null,
   "metadata": {
    "collapsed": true
   },
   "outputs": [],
   "source": [
    "train_million.query('is_attributed == 1')['device'].value_counts().head(10).plot(kind='bar')"
   ]
  },
  {
   "cell_type": "code",
   "execution_count": null,
   "metadata": {
    "collapsed": true
   },
   "outputs": [],
   "source": [
    "train_million.query('is_attributed == 0')['device'].value_counts().head(10).plot(kind='bar')"
   ]
  },
  {
   "cell_type": "code",
   "execution_count": null,
   "metadata": {
    "collapsed": true
   },
   "outputs": [],
   "source": [
    "train_million.query('is_attributed == 1')['os'].value_counts().head(10).plot(kind='bar')"
   ]
  },
  {
   "cell_type": "code",
   "execution_count": null,
   "metadata": {
    "collapsed": true
   },
   "outputs": [],
   "source": [
    "train_million.query('is_attributed == 0')['os'].value_counts().head(10).plot(kind='bar')"
   ]
  },
  {
   "cell_type": "code",
   "execution_count": null,
   "metadata": {
    "collapsed": true
   },
   "outputs": [],
   "source": [
    "train_million.query('is_attributed == 1')['channel'].value_counts().head(10).plot(kind='bar')"
   ]
  },
  {
   "cell_type": "code",
   "execution_count": null,
   "metadata": {
    "collapsed": true
   },
   "outputs": [],
   "source": [
    "train_million['click_time'] = pd.to_datetime(train_million['click_time'])\n",
    "train_million['click_date'] = train_million.click_time.dt.date"
   ]
  },
  {
   "cell_type": "code",
   "execution_count": null,
   "metadata": {
    "collapsed": true
   },
   "outputs": [],
   "source": [
    "cnt_of_ips = train_million.ip.unique().shape[0]\n",
    "date_stats = train_million.groupby('click_date')['is_attributed'].apply(lambda x: sum(x) * 1.0 / cnt_of_ips)"
   ]
  },
  {
   "cell_type": "code",
   "execution_count": null,
   "metadata": {
    "collapsed": true
   },
   "outputs": [],
   "source": [
    "date_stats.plot()"
   ]
  },
  {
   "cell_type": "code",
   "execution_count": null,
   "metadata": {
    "collapsed": true
   },
   "outputs": [],
   "source": [
    "cnt_of_ips = train_million.ip.unique().shape[0]\n",
    "date_stats = train_million.groupby('click_time')['is_attributed'].apply(lambda x: sum(x) * 1.0 / cnt_of_ips)"
   ]
  },
  {
   "cell_type": "code",
   "execution_count": null,
   "metadata": {
    "collapsed": true
   },
   "outputs": [],
   "source": [
    "date_stats.reset_index().plot(x='click_time',y='is_attributed',figsize=(13,8), alpha=0.5)"
   ]
  },
  {
   "cell_type": "code",
   "execution_count": null,
   "metadata": {
    "collapsed": true
   },
   "outputs": [],
   "source": [
    "train_million['hour'] = train_million['click_time'].dt.hour\n",
    "hour_stats = train_million.groupby('hour')['is_attributed'].apply(lambda x: sum(x) / len(x))"
   ]
  },
  {
   "cell_type": "code",
   "execution_count": null,
   "metadata": {
    "collapsed": true
   },
   "outputs": [],
   "source": [
    "hour_stats.plot(xticks=hour_stats.index)"
   ]
  },
  {
   "cell_type": "code",
   "execution_count": null,
   "metadata": {
    "collapsed": true
   },
   "outputs": [],
   "source": [
    "train_million['app'].unique().shape[0]"
   ]
  },
  {
   "cell_type": "code",
   "execution_count": null,
   "metadata": {
    "collapsed": true
   },
   "outputs": [],
   "source": [
    "train_million['device'].unique().shape[0]"
   ]
  },
  {
   "cell_type": "code",
   "execution_count": null,
   "metadata": {
    "collapsed": true
   },
   "outputs": [],
   "source": [
    "train_million['os'].unique().shape[0]"
   ]
  },
  {
   "cell_type": "code",
   "execution_count": null,
   "metadata": {
    "collapsed": true
   },
   "outputs": [],
   "source": [
    "train_million['channel'].unique().shape[0]"
   ]
  },
  {
   "cell_type": "markdown",
   "metadata": {},
   "source": [
    "## Feature Engineering"
   ]
  },
  {
   "cell_type": "code",
   "execution_count": null,
   "metadata": {
    "collapsed": true
   },
   "outputs": [],
   "source": [
    "# Create datetime\n",
    "\n",
    "test_copy = train_million.copy() "
   ]
  },
  {
   "cell_type": "code",
   "execution_count": 4,
   "metadata": {
    "collapsed": true
   },
   "outputs": [],
   "source": [
    "def new_df_with_time(df):\n",
    "    df['click_time'] = pd.to_datetime(df['click_time'])\n",
    "    df['hour'] = df.click_time.dt.hour\n",
    "    df['month'] = df.click_time.dt.month\n",
    "    df['day'] = df.click_time.dt.day\n",
    "    return df"
   ]
  },
  {
   "cell_type": "code",
   "execution_count": 5,
   "metadata": {
    "collapsed": true
   },
   "outputs": [],
   "source": [
    "def return_top_k_dummies(df, col, k=3):\n",
    "    df_copy = df.copy()\n",
    "    top_k_names = df_copy[col].value_counts().index[:k]\n",
    "    df_copy[~df_copy[col].isin(top_k_names)] = -999\n",
    "    return pd.get_dummies(df_copy[col])"
   ]
  },
  {
   "cell_type": "code",
   "execution_count": 6,
   "metadata": {
    "collapsed": true
   },
   "outputs": [],
   "source": [
    "def new_df_with_dummies(df):\n",
    "    for var in ['app','device','os','channel']:\n",
    "        dummies = return_top_k_dummies(df, var, 3)\n",
    "        dummies.columns = [var + '_' + str(col) for col in dummies.columns]\n",
    "        df = pd.concat([df,dummies],axis=1)    \n",
    "    return df"
   ]
  },
  {
   "cell_type": "code",
   "execution_count": 7,
   "metadata": {
    "collapsed": true
   },
   "outputs": [],
   "source": [
    "test_cp = pd.concat([train,test], keys=['train','test'])"
   ]
  },
  {
   "cell_type": "code",
   "execution_count": 14,
   "metadata": {
    "collapsed": true
   },
   "outputs": [],
   "source": [
    "train['df'] = 'train'\n",
    "test['df'] = 'test'\n",
    "common_features = list(set(train.columns).intersection(set(test.columns)))\n",
    "comb_df = pd.concat([train[common_features],test[common_features]])"
   ]
  },
  {
   "cell_type": "code",
   "execution_count": 15,
   "metadata": {
    "collapsed": true
   },
   "outputs": [],
   "source": [
    "comb_df = new_df_with_time(comb_df)\n",
    "comb_df = new_df_with_dummies(comb_df)"
   ]
  },
  {
   "cell_type": "markdown",
   "metadata": {},
   "source": [
    "## Build Classifier"
   ]
  },
  {
   "cell_type": "code",
   "execution_count": 16,
   "metadata": {},
   "outputs": [
    {
     "data": {
      "text/html": [
       "<div>\n",
       "<style>\n",
       "    .dataframe thead tr:only-child th {\n",
       "        text-align: right;\n",
       "    }\n",
       "\n",
       "    .dataframe thead th {\n",
       "        text-align: left;\n",
       "    }\n",
       "\n",
       "    .dataframe tbody tr th {\n",
       "        vertical-align: top;\n",
       "    }\n",
       "</style>\n",
       "<table border=\"1\" class=\"dataframe\">\n",
       "  <thead>\n",
       "    <tr style=\"text-align: right;\">\n",
       "      <th></th>\n",
       "      <th>click_time</th>\n",
       "      <th>df</th>\n",
       "      <th>os</th>\n",
       "      <th>ip</th>\n",
       "      <th>device</th>\n",
       "      <th>app</th>\n",
       "      <th>channel</th>\n",
       "      <th>hour</th>\n",
       "      <th>month</th>\n",
       "      <th>day</th>\n",
       "      <th>...</th>\n",
       "      <th>device_1</th>\n",
       "      <th>device_2</th>\n",
       "      <th>os_-999</th>\n",
       "      <th>os_13</th>\n",
       "      <th>os_17</th>\n",
       "      <th>os_19</th>\n",
       "      <th>channel_-999</th>\n",
       "      <th>channel_107</th>\n",
       "      <th>channel_265</th>\n",
       "      <th>channel_477</th>\n",
       "    </tr>\n",
       "  </thead>\n",
       "  <tbody>\n",
       "    <tr>\n",
       "      <th>0</th>\n",
       "      <td>2017-11-06 14:32:21</td>\n",
       "      <td>train</td>\n",
       "      <td>13</td>\n",
       "      <td>83230</td>\n",
       "      <td>1</td>\n",
       "      <td>3</td>\n",
       "      <td>379</td>\n",
       "      <td>14</td>\n",
       "      <td>11</td>\n",
       "      <td>6</td>\n",
       "      <td>...</td>\n",
       "      <td>1</td>\n",
       "      <td>0</td>\n",
       "      <td>0</td>\n",
       "      <td>1</td>\n",
       "      <td>0</td>\n",
       "      <td>0</td>\n",
       "      <td>1</td>\n",
       "      <td>0</td>\n",
       "      <td>0</td>\n",
       "      <td>0</td>\n",
       "    </tr>\n",
       "    <tr>\n",
       "      <th>1</th>\n",
       "      <td>2017-11-06 14:33:34</td>\n",
       "      <td>train</td>\n",
       "      <td>19</td>\n",
       "      <td>17357</td>\n",
       "      <td>1</td>\n",
       "      <td>3</td>\n",
       "      <td>379</td>\n",
       "      <td>14</td>\n",
       "      <td>11</td>\n",
       "      <td>6</td>\n",
       "      <td>...</td>\n",
       "      <td>1</td>\n",
       "      <td>0</td>\n",
       "      <td>0</td>\n",
       "      <td>0</td>\n",
       "      <td>0</td>\n",
       "      <td>1</td>\n",
       "      <td>1</td>\n",
       "      <td>0</td>\n",
       "      <td>0</td>\n",
       "      <td>0</td>\n",
       "    </tr>\n",
       "    <tr>\n",
       "      <th>2</th>\n",
       "      <td>2017-11-06 14:34:12</td>\n",
       "      <td>train</td>\n",
       "      <td>13</td>\n",
       "      <td>35810</td>\n",
       "      <td>1</td>\n",
       "      <td>3</td>\n",
       "      <td>379</td>\n",
       "      <td>14</td>\n",
       "      <td>11</td>\n",
       "      <td>6</td>\n",
       "      <td>...</td>\n",
       "      <td>1</td>\n",
       "      <td>0</td>\n",
       "      <td>0</td>\n",
       "      <td>1</td>\n",
       "      <td>0</td>\n",
       "      <td>0</td>\n",
       "      <td>1</td>\n",
       "      <td>0</td>\n",
       "      <td>0</td>\n",
       "      <td>0</td>\n",
       "    </tr>\n",
       "    <tr>\n",
       "      <th>3</th>\n",
       "      <td>2017-11-06 14:34:52</td>\n",
       "      <td>train</td>\n",
       "      <td>13</td>\n",
       "      <td>45745</td>\n",
       "      <td>1</td>\n",
       "      <td>14</td>\n",
       "      <td>478</td>\n",
       "      <td>14</td>\n",
       "      <td>11</td>\n",
       "      <td>6</td>\n",
       "      <td>...</td>\n",
       "      <td>1</td>\n",
       "      <td>0</td>\n",
       "      <td>0</td>\n",
       "      <td>1</td>\n",
       "      <td>0</td>\n",
       "      <td>0</td>\n",
       "      <td>1</td>\n",
       "      <td>0</td>\n",
       "      <td>0</td>\n",
       "      <td>0</td>\n",
       "    </tr>\n",
       "    <tr>\n",
       "      <th>4</th>\n",
       "      <td>2017-11-06 14:35:08</td>\n",
       "      <td>train</td>\n",
       "      <td>13</td>\n",
       "      <td>161007</td>\n",
       "      <td>1</td>\n",
       "      <td>3</td>\n",
       "      <td>379</td>\n",
       "      <td>14</td>\n",
       "      <td>11</td>\n",
       "      <td>6</td>\n",
       "      <td>...</td>\n",
       "      <td>1</td>\n",
       "      <td>0</td>\n",
       "      <td>0</td>\n",
       "      <td>1</td>\n",
       "      <td>0</td>\n",
       "      <td>0</td>\n",
       "      <td>1</td>\n",
       "      <td>0</td>\n",
       "      <td>0</td>\n",
       "      <td>0</td>\n",
       "    </tr>\n",
       "    <tr>\n",
       "      <th>5</th>\n",
       "      <td>2017-11-06 14:36:26</td>\n",
       "      <td>train</td>\n",
       "      <td>16</td>\n",
       "      <td>18787</td>\n",
       "      <td>1</td>\n",
       "      <td>3</td>\n",
       "      <td>379</td>\n",
       "      <td>14</td>\n",
       "      <td>11</td>\n",
       "      <td>6</td>\n",
       "      <td>...</td>\n",
       "      <td>1</td>\n",
       "      <td>0</td>\n",
       "      <td>1</td>\n",
       "      <td>0</td>\n",
       "      <td>0</td>\n",
       "      <td>0</td>\n",
       "      <td>1</td>\n",
       "      <td>0</td>\n",
       "      <td>0</td>\n",
       "      <td>0</td>\n",
       "    </tr>\n",
       "    <tr>\n",
       "      <th>6</th>\n",
       "      <td>2017-11-06 14:37:44</td>\n",
       "      <td>train</td>\n",
       "      <td>23</td>\n",
       "      <td>103022</td>\n",
       "      <td>1</td>\n",
       "      <td>3</td>\n",
       "      <td>379</td>\n",
       "      <td>14</td>\n",
       "      <td>11</td>\n",
       "      <td>6</td>\n",
       "      <td>...</td>\n",
       "      <td>1</td>\n",
       "      <td>0</td>\n",
       "      <td>1</td>\n",
       "      <td>0</td>\n",
       "      <td>0</td>\n",
       "      <td>0</td>\n",
       "      <td>1</td>\n",
       "      <td>0</td>\n",
       "      <td>0</td>\n",
       "      <td>0</td>\n",
       "    </tr>\n",
       "    <tr>\n",
       "      <th>7</th>\n",
       "      <td>2017-11-06 14:37:59</td>\n",
       "      <td>train</td>\n",
       "      <td>19</td>\n",
       "      <td>114221</td>\n",
       "      <td>1</td>\n",
       "      <td>3</td>\n",
       "      <td>379</td>\n",
       "      <td>14</td>\n",
       "      <td>11</td>\n",
       "      <td>6</td>\n",
       "      <td>...</td>\n",
       "      <td>1</td>\n",
       "      <td>0</td>\n",
       "      <td>0</td>\n",
       "      <td>0</td>\n",
       "      <td>0</td>\n",
       "      <td>1</td>\n",
       "      <td>1</td>\n",
       "      <td>0</td>\n",
       "      <td>0</td>\n",
       "      <td>0</td>\n",
       "    </tr>\n",
       "    <tr>\n",
       "      <th>8</th>\n",
       "      <td>2017-11-06 14:38:10</td>\n",
       "      <td>train</td>\n",
       "      <td>13</td>\n",
       "      <td>165970</td>\n",
       "      <td>1</td>\n",
       "      <td>3</td>\n",
       "      <td>379</td>\n",
       "      <td>14</td>\n",
       "      <td>11</td>\n",
       "      <td>6</td>\n",
       "      <td>...</td>\n",
       "      <td>1</td>\n",
       "      <td>0</td>\n",
       "      <td>0</td>\n",
       "      <td>1</td>\n",
       "      <td>0</td>\n",
       "      <td>0</td>\n",
       "      <td>1</td>\n",
       "      <td>0</td>\n",
       "      <td>0</td>\n",
       "      <td>0</td>\n",
       "    </tr>\n",
       "    <tr>\n",
       "      <th>9</th>\n",
       "      <td>2017-11-06 14:38:23</td>\n",
       "      <td>train</td>\n",
       "      <td>22</td>\n",
       "      <td>74544</td>\n",
       "      <td>1</td>\n",
       "      <td>64</td>\n",
       "      <td>459</td>\n",
       "      <td>14</td>\n",
       "      <td>11</td>\n",
       "      <td>6</td>\n",
       "      <td>...</td>\n",
       "      <td>1</td>\n",
       "      <td>0</td>\n",
       "      <td>1</td>\n",
       "      <td>0</td>\n",
       "      <td>0</td>\n",
       "      <td>0</td>\n",
       "      <td>1</td>\n",
       "      <td>0</td>\n",
       "      <td>0</td>\n",
       "      <td>0</td>\n",
       "    </tr>\n",
       "    <tr>\n",
       "      <th>10</th>\n",
       "      <td>2017-11-06 14:38:27</td>\n",
       "      <td>train</td>\n",
       "      <td>25</td>\n",
       "      <td>172522</td>\n",
       "      <td>1</td>\n",
       "      <td>3</td>\n",
       "      <td>379</td>\n",
       "      <td>14</td>\n",
       "      <td>11</td>\n",
       "      <td>6</td>\n",
       "      <td>...</td>\n",
       "      <td>1</td>\n",
       "      <td>0</td>\n",
       "      <td>1</td>\n",
       "      <td>0</td>\n",
       "      <td>0</td>\n",
       "      <td>0</td>\n",
       "      <td>1</td>\n",
       "      <td>0</td>\n",
       "      <td>0</td>\n",
       "      <td>0</td>\n",
       "    </tr>\n",
       "    <tr>\n",
       "      <th>11</th>\n",
       "      <td>2017-11-06 14:38:51</td>\n",
       "      <td>train</td>\n",
       "      <td>13</td>\n",
       "      <td>105861</td>\n",
       "      <td>1</td>\n",
       "      <td>3</td>\n",
       "      <td>379</td>\n",
       "      <td>14</td>\n",
       "      <td>11</td>\n",
       "      <td>6</td>\n",
       "      <td>...</td>\n",
       "      <td>1</td>\n",
       "      <td>0</td>\n",
       "      <td>0</td>\n",
       "      <td>1</td>\n",
       "      <td>0</td>\n",
       "      <td>0</td>\n",
       "      <td>1</td>\n",
       "      <td>0</td>\n",
       "      <td>0</td>\n",
       "      <td>0</td>\n",
       "    </tr>\n",
       "    <tr>\n",
       "      <th>12</th>\n",
       "      <td>2017-11-06 14:39:29</td>\n",
       "      <td>train</td>\n",
       "      <td>19</td>\n",
       "      <td>210962</td>\n",
       "      <td>1</td>\n",
       "      <td>3</td>\n",
       "      <td>379</td>\n",
       "      <td>14</td>\n",
       "      <td>11</td>\n",
       "      <td>6</td>\n",
       "      <td>...</td>\n",
       "      <td>1</td>\n",
       "      <td>0</td>\n",
       "      <td>0</td>\n",
       "      <td>0</td>\n",
       "      <td>0</td>\n",
       "      <td>1</td>\n",
       "      <td>1</td>\n",
       "      <td>0</td>\n",
       "      <td>0</td>\n",
       "      <td>0</td>\n",
       "    </tr>\n",
       "    <tr>\n",
       "      <th>13</th>\n",
       "      <td>2017-11-06 14:40:16</td>\n",
       "      <td>train</td>\n",
       "      <td>18</td>\n",
       "      <td>124979</td>\n",
       "      <td>1</td>\n",
       "      <td>3</td>\n",
       "      <td>379</td>\n",
       "      <td>14</td>\n",
       "      <td>11</td>\n",
       "      <td>6</td>\n",
       "      <td>...</td>\n",
       "      <td>1</td>\n",
       "      <td>0</td>\n",
       "      <td>1</td>\n",
       "      <td>0</td>\n",
       "      <td>0</td>\n",
       "      <td>0</td>\n",
       "      <td>1</td>\n",
       "      <td>0</td>\n",
       "      <td>0</td>\n",
       "      <td>0</td>\n",
       "    </tr>\n",
       "    <tr>\n",
       "      <th>14</th>\n",
       "      <td>2017-11-06 14:40:39</td>\n",
       "      <td>train</td>\n",
       "      <td>18</td>\n",
       "      <td>38816</td>\n",
       "      <td>1</td>\n",
       "      <td>3</td>\n",
       "      <td>379</td>\n",
       "      <td>14</td>\n",
       "      <td>11</td>\n",
       "      <td>6</td>\n",
       "      <td>...</td>\n",
       "      <td>1</td>\n",
       "      <td>0</td>\n",
       "      <td>1</td>\n",
       "      <td>0</td>\n",
       "      <td>0</td>\n",
       "      <td>0</td>\n",
       "      <td>1</td>\n",
       "      <td>0</td>\n",
       "      <td>0</td>\n",
       "      <td>0</td>\n",
       "    </tr>\n",
       "    <tr>\n",
       "      <th>15</th>\n",
       "      <td>2017-11-06 14:40:51</td>\n",
       "      <td>train</td>\n",
       "      <td>19</td>\n",
       "      <td>80447</td>\n",
       "      <td>1</td>\n",
       "      <td>3</td>\n",
       "      <td>379</td>\n",
       "      <td>14</td>\n",
       "      <td>11</td>\n",
       "      <td>6</td>\n",
       "      <td>...</td>\n",
       "      <td>1</td>\n",
       "      <td>0</td>\n",
       "      <td>0</td>\n",
       "      <td>0</td>\n",
       "      <td>0</td>\n",
       "      <td>1</td>\n",
       "      <td>1</td>\n",
       "      <td>0</td>\n",
       "      <td>0</td>\n",
       "      <td>0</td>\n",
       "    </tr>\n",
       "    <tr>\n",
       "      <th>16</th>\n",
       "      <td>2017-11-06 14:43:10</td>\n",
       "      <td>train</td>\n",
       "      <td>13</td>\n",
       "      <td>134575</td>\n",
       "      <td>1</td>\n",
       "      <td>3</td>\n",
       "      <td>379</td>\n",
       "      <td>14</td>\n",
       "      <td>11</td>\n",
       "      <td>6</td>\n",
       "      <td>...</td>\n",
       "      <td>1</td>\n",
       "      <td>0</td>\n",
       "      <td>0</td>\n",
       "      <td>1</td>\n",
       "      <td>0</td>\n",
       "      <td>0</td>\n",
       "      <td>1</td>\n",
       "      <td>0</td>\n",
       "      <td>0</td>\n",
       "      <td>0</td>\n",
       "    </tr>\n",
       "    <tr>\n",
       "      <th>17</th>\n",
       "      <td>2017-11-06 14:43:14</td>\n",
       "      <td>train</td>\n",
       "      <td>19</td>\n",
       "      <td>57576</td>\n",
       "      <td>1</td>\n",
       "      <td>3</td>\n",
       "      <td>379</td>\n",
       "      <td>14</td>\n",
       "      <td>11</td>\n",
       "      <td>6</td>\n",
       "      <td>...</td>\n",
       "      <td>1</td>\n",
       "      <td>0</td>\n",
       "      <td>0</td>\n",
       "      <td>0</td>\n",
       "      <td>0</td>\n",
       "      <td>1</td>\n",
       "      <td>1</td>\n",
       "      <td>0</td>\n",
       "      <td>0</td>\n",
       "      <td>0</td>\n",
       "    </tr>\n",
       "    <tr>\n",
       "      <th>18</th>\n",
       "      <td>2017-11-06 14:43:25</td>\n",
       "      <td>train</td>\n",
       "      <td>13</td>\n",
       "      <td>7755</td>\n",
       "      <td>1</td>\n",
       "      <td>3</td>\n",
       "      <td>379</td>\n",
       "      <td>14</td>\n",
       "      <td>11</td>\n",
       "      <td>6</td>\n",
       "      <td>...</td>\n",
       "      <td>1</td>\n",
       "      <td>0</td>\n",
       "      <td>0</td>\n",
       "      <td>1</td>\n",
       "      <td>0</td>\n",
       "      <td>0</td>\n",
       "      <td>1</td>\n",
       "      <td>0</td>\n",
       "      <td>0</td>\n",
       "      <td>0</td>\n",
       "    </tr>\n",
       "    <tr>\n",
       "      <th>19</th>\n",
       "      <td>2017-11-06 14:43:51</td>\n",
       "      <td>train</td>\n",
       "      <td>19</td>\n",
       "      <td>91749</td>\n",
       "      <td>1</td>\n",
       "      <td>3</td>\n",
       "      <td>379</td>\n",
       "      <td>14</td>\n",
       "      <td>11</td>\n",
       "      <td>6</td>\n",
       "      <td>...</td>\n",
       "      <td>1</td>\n",
       "      <td>0</td>\n",
       "      <td>0</td>\n",
       "      <td>0</td>\n",
       "      <td>0</td>\n",
       "      <td>1</td>\n",
       "      <td>1</td>\n",
       "      <td>0</td>\n",
       "      <td>0</td>\n",
       "      <td>0</td>\n",
       "    </tr>\n",
       "    <tr>\n",
       "      <th>20</th>\n",
       "      <td>2017-11-06 14:44:02</td>\n",
       "      <td>train</td>\n",
       "      <td>18</td>\n",
       "      <td>50694</td>\n",
       "      <td>1</td>\n",
       "      <td>3</td>\n",
       "      <td>379</td>\n",
       "      <td>14</td>\n",
       "      <td>11</td>\n",
       "      <td>6</td>\n",
       "      <td>...</td>\n",
       "      <td>1</td>\n",
       "      <td>0</td>\n",
       "      <td>1</td>\n",
       "      <td>0</td>\n",
       "      <td>0</td>\n",
       "      <td>0</td>\n",
       "      <td>1</td>\n",
       "      <td>0</td>\n",
       "      <td>0</td>\n",
       "      <td>0</td>\n",
       "    </tr>\n",
       "    <tr>\n",
       "      <th>21</th>\n",
       "      <td>2017-11-06 14:44:15</td>\n",
       "      <td>train</td>\n",
       "      <td>18</td>\n",
       "      <td>111385</td>\n",
       "      <td>1</td>\n",
       "      <td>3</td>\n",
       "      <td>379</td>\n",
       "      <td>14</td>\n",
       "      <td>11</td>\n",
       "      <td>6</td>\n",
       "      <td>...</td>\n",
       "      <td>1</td>\n",
       "      <td>0</td>\n",
       "      <td>1</td>\n",
       "      <td>0</td>\n",
       "      <td>0</td>\n",
       "      <td>0</td>\n",
       "      <td>1</td>\n",
       "      <td>0</td>\n",
       "      <td>0</td>\n",
       "      <td>0</td>\n",
       "    </tr>\n",
       "    <tr>\n",
       "      <th>22</th>\n",
       "      <td>2017-11-06 14:44:51</td>\n",
       "      <td>train</td>\n",
       "      <td>3</td>\n",
       "      <td>125222</td>\n",
       "      <td>1</td>\n",
       "      <td>14</td>\n",
       "      <td>478</td>\n",
       "      <td>14</td>\n",
       "      <td>11</td>\n",
       "      <td>6</td>\n",
       "      <td>...</td>\n",
       "      <td>1</td>\n",
       "      <td>0</td>\n",
       "      <td>1</td>\n",
       "      <td>0</td>\n",
       "      <td>0</td>\n",
       "      <td>0</td>\n",
       "      <td>1</td>\n",
       "      <td>0</td>\n",
       "      <td>0</td>\n",
       "      <td>0</td>\n",
       "    </tr>\n",
       "    <tr>\n",
       "      <th>23</th>\n",
       "      <td>2017-11-06 14:44:51</td>\n",
       "      <td>train</td>\n",
       "      <td>13</td>\n",
       "      <td>191759</td>\n",
       "      <td>1</td>\n",
       "      <td>3</td>\n",
       "      <td>379</td>\n",
       "      <td>14</td>\n",
       "      <td>11</td>\n",
       "      <td>6</td>\n",
       "      <td>...</td>\n",
       "      <td>1</td>\n",
       "      <td>0</td>\n",
       "      <td>0</td>\n",
       "      <td>1</td>\n",
       "      <td>0</td>\n",
       "      <td>0</td>\n",
       "      <td>1</td>\n",
       "      <td>0</td>\n",
       "      <td>0</td>\n",
       "      <td>0</td>\n",
       "    </tr>\n",
       "    <tr>\n",
       "      <th>24</th>\n",
       "      <td>2017-11-06 14:44:52</td>\n",
       "      <td>train</td>\n",
       "      <td>17</td>\n",
       "      <td>53418</td>\n",
       "      <td>1</td>\n",
       "      <td>3</td>\n",
       "      <td>379</td>\n",
       "      <td>14</td>\n",
       "      <td>11</td>\n",
       "      <td>6</td>\n",
       "      <td>...</td>\n",
       "      <td>1</td>\n",
       "      <td>0</td>\n",
       "      <td>0</td>\n",
       "      <td>0</td>\n",
       "      <td>1</td>\n",
       "      <td>0</td>\n",
       "      <td>1</td>\n",
       "      <td>0</td>\n",
       "      <td>0</td>\n",
       "      <td>0</td>\n",
       "    </tr>\n",
       "    <tr>\n",
       "      <th>25</th>\n",
       "      <td>2017-11-06 14:47:49</td>\n",
       "      <td>train</td>\n",
       "      <td>19</td>\n",
       "      <td>183168</td>\n",
       "      <td>1</td>\n",
       "      <td>3</td>\n",
       "      <td>379</td>\n",
       "      <td>14</td>\n",
       "      <td>11</td>\n",
       "      <td>6</td>\n",
       "      <td>...</td>\n",
       "      <td>1</td>\n",
       "      <td>0</td>\n",
       "      <td>0</td>\n",
       "      <td>0</td>\n",
       "      <td>0</td>\n",
       "      <td>1</td>\n",
       "      <td>1</td>\n",
       "      <td>0</td>\n",
       "      <td>0</td>\n",
       "      <td>0</td>\n",
       "    </tr>\n",
       "    <tr>\n",
       "      <th>26</th>\n",
       "      <td>2017-11-06 14:48:07</td>\n",
       "      <td>train</td>\n",
       "      <td>17</td>\n",
       "      <td>47902</td>\n",
       "      <td>1</td>\n",
       "      <td>3</td>\n",
       "      <td>379</td>\n",
       "      <td>14</td>\n",
       "      <td>11</td>\n",
       "      <td>6</td>\n",
       "      <td>...</td>\n",
       "      <td>1</td>\n",
       "      <td>0</td>\n",
       "      <td>0</td>\n",
       "      <td>0</td>\n",
       "      <td>1</td>\n",
       "      <td>0</td>\n",
       "      <td>1</td>\n",
       "      <td>0</td>\n",
       "      <td>0</td>\n",
       "      <td>0</td>\n",
       "    </tr>\n",
       "    <tr>\n",
       "      <th>27</th>\n",
       "      <td>2017-11-06 14:48:55</td>\n",
       "      <td>train</td>\n",
       "      <td>13</td>\n",
       "      <td>209663</td>\n",
       "      <td>1</td>\n",
       "      <td>3</td>\n",
       "      <td>379</td>\n",
       "      <td>14</td>\n",
       "      <td>11</td>\n",
       "      <td>6</td>\n",
       "      <td>...</td>\n",
       "      <td>1</td>\n",
       "      <td>0</td>\n",
       "      <td>0</td>\n",
       "      <td>1</td>\n",
       "      <td>0</td>\n",
       "      <td>0</td>\n",
       "      <td>1</td>\n",
       "      <td>0</td>\n",
       "      <td>0</td>\n",
       "      <td>0</td>\n",
       "    </tr>\n",
       "    <tr>\n",
       "      <th>28</th>\n",
       "      <td>2017-11-06 14:49:36</td>\n",
       "      <td>train</td>\n",
       "      <td>20</td>\n",
       "      <td>129614</td>\n",
       "      <td>1</td>\n",
       "      <td>3</td>\n",
       "      <td>379</td>\n",
       "      <td>14</td>\n",
       "      <td>11</td>\n",
       "      <td>6</td>\n",
       "      <td>...</td>\n",
       "      <td>1</td>\n",
       "      <td>0</td>\n",
       "      <td>1</td>\n",
       "      <td>0</td>\n",
       "      <td>0</td>\n",
       "      <td>0</td>\n",
       "      <td>1</td>\n",
       "      <td>0</td>\n",
       "      <td>0</td>\n",
       "      <td>0</td>\n",
       "    </tr>\n",
       "    <tr>\n",
       "      <th>29</th>\n",
       "      <td>2017-11-06 14:49:38</td>\n",
       "      <td>train</td>\n",
       "      <td>19</td>\n",
       "      <td>208347</td>\n",
       "      <td>1</td>\n",
       "      <td>3</td>\n",
       "      <td>379</td>\n",
       "      <td>14</td>\n",
       "      <td>11</td>\n",
       "      <td>6</td>\n",
       "      <td>...</td>\n",
       "      <td>1</td>\n",
       "      <td>0</td>\n",
       "      <td>0</td>\n",
       "      <td>0</td>\n",
       "      <td>0</td>\n",
       "      <td>1</td>\n",
       "      <td>1</td>\n",
       "      <td>0</td>\n",
       "      <td>0</td>\n",
       "      <td>0</td>\n",
       "    </tr>\n",
       "    <tr>\n",
       "      <th>...</th>\n",
       "      <td>...</td>\n",
       "      <td>...</td>\n",
       "      <td>...</td>\n",
       "      <td>...</td>\n",
       "      <td>...</td>\n",
       "      <td>...</td>\n",
       "      <td>...</td>\n",
       "      <td>...</td>\n",
       "      <td>...</td>\n",
       "      <td>...</td>\n",
       "      <td>...</td>\n",
       "      <td>...</td>\n",
       "      <td>...</td>\n",
       "      <td>...</td>\n",
       "      <td>...</td>\n",
       "      <td>...</td>\n",
       "      <td>...</td>\n",
       "      <td>...</td>\n",
       "      <td>...</td>\n",
       "      <td>...</td>\n",
       "      <td>...</td>\n",
       "    </tr>\n",
       "    <tr>\n",
       "      <th>18790439</th>\n",
       "      <td>2017-11-10 15:00:00</td>\n",
       "      <td>test</td>\n",
       "      <td>13</td>\n",
       "      <td>51432</td>\n",
       "      <td>1</td>\n",
       "      <td>27</td>\n",
       "      <td>153</td>\n",
       "      <td>15</td>\n",
       "      <td>11</td>\n",
       "      <td>10</td>\n",
       "      <td>...</td>\n",
       "      <td>1</td>\n",
       "      <td>0</td>\n",
       "      <td>0</td>\n",
       "      <td>1</td>\n",
       "      <td>0</td>\n",
       "      <td>0</td>\n",
       "      <td>1</td>\n",
       "      <td>0</td>\n",
       "      <td>0</td>\n",
       "      <td>0</td>\n",
       "    </tr>\n",
       "    <tr>\n",
       "      <th>18790440</th>\n",
       "      <td>2017-11-10 15:00:00</td>\n",
       "      <td>test</td>\n",
       "      <td>19</td>\n",
       "      <td>14334</td>\n",
       "      <td>1</td>\n",
       "      <td>14</td>\n",
       "      <td>401</td>\n",
       "      <td>15</td>\n",
       "      <td>11</td>\n",
       "      <td>10</td>\n",
       "      <td>...</td>\n",
       "      <td>1</td>\n",
       "      <td>0</td>\n",
       "      <td>0</td>\n",
       "      <td>0</td>\n",
       "      <td>0</td>\n",
       "      <td>1</td>\n",
       "      <td>1</td>\n",
       "      <td>0</td>\n",
       "      <td>0</td>\n",
       "      <td>0</td>\n",
       "    </tr>\n",
       "    <tr>\n",
       "      <th>18790441</th>\n",
       "      <td>2017-11-10 15:00:00</td>\n",
       "      <td>test</td>\n",
       "      <td>13</td>\n",
       "      <td>16749</td>\n",
       "      <td>1</td>\n",
       "      <td>9</td>\n",
       "      <td>334</td>\n",
       "      <td>15</td>\n",
       "      <td>11</td>\n",
       "      <td>10</td>\n",
       "      <td>...</td>\n",
       "      <td>1</td>\n",
       "      <td>0</td>\n",
       "      <td>0</td>\n",
       "      <td>1</td>\n",
       "      <td>0</td>\n",
       "      <td>0</td>\n",
       "      <td>1</td>\n",
       "      <td>0</td>\n",
       "      <td>0</td>\n",
       "      <td>0</td>\n",
       "    </tr>\n",
       "    <tr>\n",
       "      <th>18790442</th>\n",
       "      <td>2017-11-10 15:00:00</td>\n",
       "      <td>test</td>\n",
       "      <td>13</td>\n",
       "      <td>17814</td>\n",
       "      <td>1</td>\n",
       "      <td>23</td>\n",
       "      <td>153</td>\n",
       "      <td>15</td>\n",
       "      <td>11</td>\n",
       "      <td>10</td>\n",
       "      <td>...</td>\n",
       "      <td>1</td>\n",
       "      <td>0</td>\n",
       "      <td>0</td>\n",
       "      <td>1</td>\n",
       "      <td>0</td>\n",
       "      <td>0</td>\n",
       "      <td>1</td>\n",
       "      <td>0</td>\n",
       "      <td>0</td>\n",
       "      <td>0</td>\n",
       "    </tr>\n",
       "    <tr>\n",
       "      <th>18790443</th>\n",
       "      <td>2017-11-10 15:00:00</td>\n",
       "      <td>test</td>\n",
       "      <td>13</td>\n",
       "      <td>8825</td>\n",
       "      <td>1</td>\n",
       "      <td>21</td>\n",
       "      <td>232</td>\n",
       "      <td>15</td>\n",
       "      <td>11</td>\n",
       "      <td>10</td>\n",
       "      <td>...</td>\n",
       "      <td>1</td>\n",
       "      <td>0</td>\n",
       "      <td>0</td>\n",
       "      <td>1</td>\n",
       "      <td>0</td>\n",
       "      <td>0</td>\n",
       "      <td>1</td>\n",
       "      <td>0</td>\n",
       "      <td>0</td>\n",
       "      <td>0</td>\n",
       "    </tr>\n",
       "    <tr>\n",
       "      <th>18790444</th>\n",
       "      <td>2017-11-10 15:00:00</td>\n",
       "      <td>test</td>\n",
       "      <td>13</td>\n",
       "      <td>115536</td>\n",
       "      <td>2</td>\n",
       "      <td>8</td>\n",
       "      <td>259</td>\n",
       "      <td>15</td>\n",
       "      <td>11</td>\n",
       "      <td>10</td>\n",
       "      <td>...</td>\n",
       "      <td>0</td>\n",
       "      <td>1</td>\n",
       "      <td>0</td>\n",
       "      <td>1</td>\n",
       "      <td>0</td>\n",
       "      <td>0</td>\n",
       "      <td>1</td>\n",
       "      <td>0</td>\n",
       "      <td>0</td>\n",
       "      <td>0</td>\n",
       "    </tr>\n",
       "    <tr>\n",
       "      <th>18790445</th>\n",
       "      <td>2017-11-10 15:00:00</td>\n",
       "      <td>test</td>\n",
       "      <td>19</td>\n",
       "      <td>121472</td>\n",
       "      <td>1</td>\n",
       "      <td>2</td>\n",
       "      <td>205</td>\n",
       "      <td>15</td>\n",
       "      <td>11</td>\n",
       "      <td>10</td>\n",
       "      <td>...</td>\n",
       "      <td>1</td>\n",
       "      <td>0</td>\n",
       "      <td>0</td>\n",
       "      <td>0</td>\n",
       "      <td>0</td>\n",
       "      <td>1</td>\n",
       "      <td>1</td>\n",
       "      <td>0</td>\n",
       "      <td>0</td>\n",
       "      <td>0</td>\n",
       "    </tr>\n",
       "    <tr>\n",
       "      <th>18790446</th>\n",
       "      <td>2017-11-10 15:00:00</td>\n",
       "      <td>test</td>\n",
       "      <td>12</td>\n",
       "      <td>38000</td>\n",
       "      <td>1</td>\n",
       "      <td>12</td>\n",
       "      <td>242</td>\n",
       "      <td>15</td>\n",
       "      <td>11</td>\n",
       "      <td>10</td>\n",
       "      <td>...</td>\n",
       "      <td>1</td>\n",
       "      <td>0</td>\n",
       "      <td>1</td>\n",
       "      <td>0</td>\n",
       "      <td>0</td>\n",
       "      <td>0</td>\n",
       "      <td>1</td>\n",
       "      <td>0</td>\n",
       "      <td>0</td>\n",
       "      <td>0</td>\n",
       "    </tr>\n",
       "    <tr>\n",
       "      <th>18790447</th>\n",
       "      <td>2017-11-10 15:00:00</td>\n",
       "      <td>test</td>\n",
       "      <td>19</td>\n",
       "      <td>66176</td>\n",
       "      <td>1</td>\n",
       "      <td>1</td>\n",
       "      <td>125</td>\n",
       "      <td>15</td>\n",
       "      <td>11</td>\n",
       "      <td>10</td>\n",
       "      <td>...</td>\n",
       "      <td>1</td>\n",
       "      <td>0</td>\n",
       "      <td>0</td>\n",
       "      <td>0</td>\n",
       "      <td>0</td>\n",
       "      <td>1</td>\n",
       "      <td>1</td>\n",
       "      <td>0</td>\n",
       "      <td>0</td>\n",
       "      <td>0</td>\n",
       "    </tr>\n",
       "    <tr>\n",
       "      <th>18790448</th>\n",
       "      <td>2017-11-10 15:00:00</td>\n",
       "      <td>test</td>\n",
       "      <td>22</td>\n",
       "      <td>25553</td>\n",
       "      <td>1</td>\n",
       "      <td>2</td>\n",
       "      <td>205</td>\n",
       "      <td>15</td>\n",
       "      <td>11</td>\n",
       "      <td>10</td>\n",
       "      <td>...</td>\n",
       "      <td>1</td>\n",
       "      <td>0</td>\n",
       "      <td>1</td>\n",
       "      <td>0</td>\n",
       "      <td>0</td>\n",
       "      <td>0</td>\n",
       "      <td>1</td>\n",
       "      <td>0</td>\n",
       "      <td>0</td>\n",
       "      <td>0</td>\n",
       "    </tr>\n",
       "    <tr>\n",
       "      <th>18790449</th>\n",
       "      <td>2017-11-10 15:00:00</td>\n",
       "      <td>test</td>\n",
       "      <td>19</td>\n",
       "      <td>119531</td>\n",
       "      <td>2</td>\n",
       "      <td>21</td>\n",
       "      <td>128</td>\n",
       "      <td>15</td>\n",
       "      <td>11</td>\n",
       "      <td>10</td>\n",
       "      <td>...</td>\n",
       "      <td>0</td>\n",
       "      <td>1</td>\n",
       "      <td>0</td>\n",
       "      <td>0</td>\n",
       "      <td>0</td>\n",
       "      <td>1</td>\n",
       "      <td>1</td>\n",
       "      <td>0</td>\n",
       "      <td>0</td>\n",
       "      <td>0</td>\n",
       "    </tr>\n",
       "    <tr>\n",
       "      <th>18790450</th>\n",
       "      <td>2017-11-10 15:00:00</td>\n",
       "      <td>test</td>\n",
       "      <td>53</td>\n",
       "      <td>14062</td>\n",
       "      <td>1</td>\n",
       "      <td>13</td>\n",
       "      <td>469</td>\n",
       "      <td>15</td>\n",
       "      <td>11</td>\n",
       "      <td>10</td>\n",
       "      <td>...</td>\n",
       "      <td>1</td>\n",
       "      <td>0</td>\n",
       "      <td>1</td>\n",
       "      <td>0</td>\n",
       "      <td>0</td>\n",
       "      <td>0</td>\n",
       "      <td>1</td>\n",
       "      <td>0</td>\n",
       "      <td>0</td>\n",
       "      <td>0</td>\n",
       "    </tr>\n",
       "    <tr>\n",
       "      <th>18790451</th>\n",
       "      <td>2017-11-10 15:00:00</td>\n",
       "      <td>test</td>\n",
       "      <td>19</td>\n",
       "      <td>48536</td>\n",
       "      <td>1</td>\n",
       "      <td>14</td>\n",
       "      <td>442</td>\n",
       "      <td>15</td>\n",
       "      <td>11</td>\n",
       "      <td>10</td>\n",
       "      <td>...</td>\n",
       "      <td>1</td>\n",
       "      <td>0</td>\n",
       "      <td>0</td>\n",
       "      <td>0</td>\n",
       "      <td>0</td>\n",
       "      <td>1</td>\n",
       "      <td>1</td>\n",
       "      <td>0</td>\n",
       "      <td>0</td>\n",
       "      <td>0</td>\n",
       "    </tr>\n",
       "    <tr>\n",
       "      <th>18790452</th>\n",
       "      <td>2017-11-10 15:00:00</td>\n",
       "      <td>test</td>\n",
       "      <td>19</td>\n",
       "      <td>93291</td>\n",
       "      <td>1</td>\n",
       "      <td>1</td>\n",
       "      <td>125</td>\n",
       "      <td>15</td>\n",
       "      <td>11</td>\n",
       "      <td>10</td>\n",
       "      <td>...</td>\n",
       "      <td>1</td>\n",
       "      <td>0</td>\n",
       "      <td>0</td>\n",
       "      <td>0</td>\n",
       "      <td>0</td>\n",
       "      <td>1</td>\n",
       "      <td>1</td>\n",
       "      <td>0</td>\n",
       "      <td>0</td>\n",
       "      <td>0</td>\n",
       "    </tr>\n",
       "    <tr>\n",
       "      <th>18790453</th>\n",
       "      <td>2017-11-10 15:00:00</td>\n",
       "      <td>test</td>\n",
       "      <td>19</td>\n",
       "      <td>93291</td>\n",
       "      <td>1</td>\n",
       "      <td>9</td>\n",
       "      <td>258</td>\n",
       "      <td>15</td>\n",
       "      <td>11</td>\n",
       "      <td>10</td>\n",
       "      <td>...</td>\n",
       "      <td>1</td>\n",
       "      <td>0</td>\n",
       "      <td>0</td>\n",
       "      <td>0</td>\n",
       "      <td>0</td>\n",
       "      <td>1</td>\n",
       "      <td>1</td>\n",
       "      <td>0</td>\n",
       "      <td>0</td>\n",
       "      <td>0</td>\n",
       "    </tr>\n",
       "    <tr>\n",
       "      <th>18790454</th>\n",
       "      <td>2017-11-10 15:00:00</td>\n",
       "      <td>test</td>\n",
       "      <td>22</td>\n",
       "      <td>55874</td>\n",
       "      <td>1</td>\n",
       "      <td>1</td>\n",
       "      <td>125</td>\n",
       "      <td>15</td>\n",
       "      <td>11</td>\n",
       "      <td>10</td>\n",
       "      <td>...</td>\n",
       "      <td>1</td>\n",
       "      <td>0</td>\n",
       "      <td>1</td>\n",
       "      <td>0</td>\n",
       "      <td>0</td>\n",
       "      <td>0</td>\n",
       "      <td>1</td>\n",
       "      <td>0</td>\n",
       "      <td>0</td>\n",
       "      <td>0</td>\n",
       "    </tr>\n",
       "    <tr>\n",
       "      <th>18790455</th>\n",
       "      <td>2017-11-10 15:00:00</td>\n",
       "      <td>test</td>\n",
       "      <td>19</td>\n",
       "      <td>93291</td>\n",
       "      <td>1</td>\n",
       "      <td>9</td>\n",
       "      <td>145</td>\n",
       "      <td>15</td>\n",
       "      <td>11</td>\n",
       "      <td>10</td>\n",
       "      <td>...</td>\n",
       "      <td>1</td>\n",
       "      <td>0</td>\n",
       "      <td>0</td>\n",
       "      <td>0</td>\n",
       "      <td>0</td>\n",
       "      <td>1</td>\n",
       "      <td>1</td>\n",
       "      <td>0</td>\n",
       "      <td>0</td>\n",
       "      <td>0</td>\n",
       "    </tr>\n",
       "    <tr>\n",
       "      <th>18790456</th>\n",
       "      <td>2017-11-10 15:00:00</td>\n",
       "      <td>test</td>\n",
       "      <td>18</td>\n",
       "      <td>100697</td>\n",
       "      <td>1</td>\n",
       "      <td>8</td>\n",
       "      <td>259</td>\n",
       "      <td>15</td>\n",
       "      <td>11</td>\n",
       "      <td>10</td>\n",
       "      <td>...</td>\n",
       "      <td>1</td>\n",
       "      <td>0</td>\n",
       "      <td>1</td>\n",
       "      <td>0</td>\n",
       "      <td>0</td>\n",
       "      <td>0</td>\n",
       "      <td>1</td>\n",
       "      <td>0</td>\n",
       "      <td>0</td>\n",
       "      <td>0</td>\n",
       "    </tr>\n",
       "    <tr>\n",
       "      <th>18790457</th>\n",
       "      <td>2017-11-10 15:00:00</td>\n",
       "      <td>test</td>\n",
       "      <td>19</td>\n",
       "      <td>93291</td>\n",
       "      <td>1</td>\n",
       "      <td>20</td>\n",
       "      <td>259</td>\n",
       "      <td>15</td>\n",
       "      <td>11</td>\n",
       "      <td>10</td>\n",
       "      <td>...</td>\n",
       "      <td>1</td>\n",
       "      <td>0</td>\n",
       "      <td>0</td>\n",
       "      <td>0</td>\n",
       "      <td>0</td>\n",
       "      <td>1</td>\n",
       "      <td>1</td>\n",
       "      <td>0</td>\n",
       "      <td>0</td>\n",
       "      <td>0</td>\n",
       "    </tr>\n",
       "    <tr>\n",
       "      <th>18790458</th>\n",
       "      <td>2017-11-10 15:00:00</td>\n",
       "      <td>test</td>\n",
       "      <td>14</td>\n",
       "      <td>85329</td>\n",
       "      <td>1</td>\n",
       "      <td>2</td>\n",
       "      <td>452</td>\n",
       "      <td>15</td>\n",
       "      <td>11</td>\n",
       "      <td>10</td>\n",
       "      <td>...</td>\n",
       "      <td>1</td>\n",
       "      <td>0</td>\n",
       "      <td>1</td>\n",
       "      <td>0</td>\n",
       "      <td>0</td>\n",
       "      <td>0</td>\n",
       "      <td>1</td>\n",
       "      <td>0</td>\n",
       "      <td>0</td>\n",
       "      <td>0</td>\n",
       "    </tr>\n",
       "    <tr>\n",
       "      <th>18790459</th>\n",
       "      <td>2017-11-10 15:00:00</td>\n",
       "      <td>test</td>\n",
       "      <td>17</td>\n",
       "      <td>102467</td>\n",
       "      <td>1</td>\n",
       "      <td>15</td>\n",
       "      <td>140</td>\n",
       "      <td>15</td>\n",
       "      <td>11</td>\n",
       "      <td>10</td>\n",
       "      <td>...</td>\n",
       "      <td>1</td>\n",
       "      <td>0</td>\n",
       "      <td>0</td>\n",
       "      <td>0</td>\n",
       "      <td>1</td>\n",
       "      <td>0</td>\n",
       "      <td>1</td>\n",
       "      <td>0</td>\n",
       "      <td>0</td>\n",
       "      <td>0</td>\n",
       "    </tr>\n",
       "    <tr>\n",
       "      <th>18790460</th>\n",
       "      <td>2017-11-10 15:00:00</td>\n",
       "      <td>test</td>\n",
       "      <td>19</td>\n",
       "      <td>80537</td>\n",
       "      <td>1</td>\n",
       "      <td>9</td>\n",
       "      <td>445</td>\n",
       "      <td>15</td>\n",
       "      <td>11</td>\n",
       "      <td>10</td>\n",
       "      <td>...</td>\n",
       "      <td>1</td>\n",
       "      <td>0</td>\n",
       "      <td>0</td>\n",
       "      <td>0</td>\n",
       "      <td>0</td>\n",
       "      <td>1</td>\n",
       "      <td>1</td>\n",
       "      <td>0</td>\n",
       "      <td>0</td>\n",
       "      <td>0</td>\n",
       "    </tr>\n",
       "    <tr>\n",
       "      <th>18790461</th>\n",
       "      <td>2017-11-10 15:00:00</td>\n",
       "      <td>test</td>\n",
       "      <td>16</td>\n",
       "      <td>101214</td>\n",
       "      <td>2</td>\n",
       "      <td>2</td>\n",
       "      <td>237</td>\n",
       "      <td>15</td>\n",
       "      <td>11</td>\n",
       "      <td>10</td>\n",
       "      <td>...</td>\n",
       "      <td>0</td>\n",
       "      <td>1</td>\n",
       "      <td>1</td>\n",
       "      <td>0</td>\n",
       "      <td>0</td>\n",
       "      <td>0</td>\n",
       "      <td>1</td>\n",
       "      <td>0</td>\n",
       "      <td>0</td>\n",
       "      <td>0</td>\n",
       "    </tr>\n",
       "    <tr>\n",
       "      <th>18790462</th>\n",
       "      <td>2017-11-10 15:00:00</td>\n",
       "      <td>test</td>\n",
       "      <td>17</td>\n",
       "      <td>113418</td>\n",
       "      <td>1</td>\n",
       "      <td>17</td>\n",
       "      <td>128</td>\n",
       "      <td>15</td>\n",
       "      <td>11</td>\n",
       "      <td>10</td>\n",
       "      <td>...</td>\n",
       "      <td>1</td>\n",
       "      <td>0</td>\n",
       "      <td>0</td>\n",
       "      <td>0</td>\n",
       "      <td>1</td>\n",
       "      <td>0</td>\n",
       "      <td>1</td>\n",
       "      <td>0</td>\n",
       "      <td>0</td>\n",
       "      <td>0</td>\n",
       "    </tr>\n",
       "    <tr>\n",
       "      <th>18790463</th>\n",
       "      <td>2017-11-10 15:00:00</td>\n",
       "      <td>test</td>\n",
       "      <td>13</td>\n",
       "      <td>69245</td>\n",
       "      <td>1</td>\n",
       "      <td>12</td>\n",
       "      <td>135</td>\n",
       "      <td>15</td>\n",
       "      <td>11</td>\n",
       "      <td>10</td>\n",
       "      <td>...</td>\n",
       "      <td>1</td>\n",
       "      <td>0</td>\n",
       "      <td>0</td>\n",
       "      <td>1</td>\n",
       "      <td>0</td>\n",
       "      <td>0</td>\n",
       "      <td>1</td>\n",
       "      <td>0</td>\n",
       "      <td>0</td>\n",
       "      <td>0</td>\n",
       "    </tr>\n",
       "    <tr>\n",
       "      <th>18790464</th>\n",
       "      <td>2017-11-10 15:00:00</td>\n",
       "      <td>test</td>\n",
       "      <td>13</td>\n",
       "      <td>99442</td>\n",
       "      <td>1</td>\n",
       "      <td>9</td>\n",
       "      <td>127</td>\n",
       "      <td>15</td>\n",
       "      <td>11</td>\n",
       "      <td>10</td>\n",
       "      <td>...</td>\n",
       "      <td>1</td>\n",
       "      <td>0</td>\n",
       "      <td>0</td>\n",
       "      <td>1</td>\n",
       "      <td>0</td>\n",
       "      <td>0</td>\n",
       "      <td>1</td>\n",
       "      <td>0</td>\n",
       "      <td>0</td>\n",
       "      <td>0</td>\n",
       "    </tr>\n",
       "    <tr>\n",
       "      <th>18790465</th>\n",
       "      <td>2017-11-10 15:00:00</td>\n",
       "      <td>test</td>\n",
       "      <td>37</td>\n",
       "      <td>88046</td>\n",
       "      <td>1</td>\n",
       "      <td>23</td>\n",
       "      <td>153</td>\n",
       "      <td>15</td>\n",
       "      <td>11</td>\n",
       "      <td>10</td>\n",
       "      <td>...</td>\n",
       "      <td>1</td>\n",
       "      <td>0</td>\n",
       "      <td>1</td>\n",
       "      <td>0</td>\n",
       "      <td>0</td>\n",
       "      <td>0</td>\n",
       "      <td>1</td>\n",
       "      <td>0</td>\n",
       "      <td>0</td>\n",
       "      <td>0</td>\n",
       "    </tr>\n",
       "    <tr>\n",
       "      <th>18790466</th>\n",
       "      <td>2017-11-10 15:00:00</td>\n",
       "      <td>test</td>\n",
       "      <td>17</td>\n",
       "      <td>81398</td>\n",
       "      <td>1</td>\n",
       "      <td>18</td>\n",
       "      <td>265</td>\n",
       "      <td>15</td>\n",
       "      <td>11</td>\n",
       "      <td>10</td>\n",
       "      <td>...</td>\n",
       "      <td>1</td>\n",
       "      <td>0</td>\n",
       "      <td>0</td>\n",
       "      <td>0</td>\n",
       "      <td>1</td>\n",
       "      <td>0</td>\n",
       "      <td>0</td>\n",
       "      <td>0</td>\n",
       "      <td>1</td>\n",
       "      <td>0</td>\n",
       "    </tr>\n",
       "    <tr>\n",
       "      <th>18790467</th>\n",
       "      <td>2017-11-10 15:00:00</td>\n",
       "      <td>test</td>\n",
       "      <td>13</td>\n",
       "      <td>123236</td>\n",
       "      <td>1</td>\n",
       "      <td>27</td>\n",
       "      <td>122</td>\n",
       "      <td>15</td>\n",
       "      <td>11</td>\n",
       "      <td>10</td>\n",
       "      <td>...</td>\n",
       "      <td>1</td>\n",
       "      <td>0</td>\n",
       "      <td>0</td>\n",
       "      <td>1</td>\n",
       "      <td>0</td>\n",
       "      <td>0</td>\n",
       "      <td>1</td>\n",
       "      <td>0</td>\n",
       "      <td>0</td>\n",
       "      <td>0</td>\n",
       "    </tr>\n",
       "    <tr>\n",
       "      <th>18790468</th>\n",
       "      <td>2017-11-10 15:00:00</td>\n",
       "      <td>test</td>\n",
       "      <td>27</td>\n",
       "      <td>73516</td>\n",
       "      <td>2</td>\n",
       "      <td>12</td>\n",
       "      <td>265</td>\n",
       "      <td>15</td>\n",
       "      <td>11</td>\n",
       "      <td>10</td>\n",
       "      <td>...</td>\n",
       "      <td>0</td>\n",
       "      <td>1</td>\n",
       "      <td>1</td>\n",
       "      <td>0</td>\n",
       "      <td>0</td>\n",
       "      <td>0</td>\n",
       "      <td>0</td>\n",
       "      <td>0</td>\n",
       "      <td>1</td>\n",
       "      <td>0</td>\n",
       "    </tr>\n",
       "  </tbody>\n",
       "</table>\n",
       "<p>21790469 rows × 26 columns</p>\n",
       "</div>"
      ],
      "text/plain": [
       "                  click_time     df  os      ip  device  app  channel  hour  \\\n",
       "0        2017-11-06 14:32:21  train  13   83230       1    3      379    14   \n",
       "1        2017-11-06 14:33:34  train  19   17357       1    3      379    14   \n",
       "2        2017-11-06 14:34:12  train  13   35810       1    3      379    14   \n",
       "3        2017-11-06 14:34:52  train  13   45745       1   14      478    14   \n",
       "4        2017-11-06 14:35:08  train  13  161007       1    3      379    14   \n",
       "5        2017-11-06 14:36:26  train  16   18787       1    3      379    14   \n",
       "6        2017-11-06 14:37:44  train  23  103022       1    3      379    14   \n",
       "7        2017-11-06 14:37:59  train  19  114221       1    3      379    14   \n",
       "8        2017-11-06 14:38:10  train  13  165970       1    3      379    14   \n",
       "9        2017-11-06 14:38:23  train  22   74544       1   64      459    14   \n",
       "10       2017-11-06 14:38:27  train  25  172522       1    3      379    14   \n",
       "11       2017-11-06 14:38:51  train  13  105861       1    3      379    14   \n",
       "12       2017-11-06 14:39:29  train  19  210962       1    3      379    14   \n",
       "13       2017-11-06 14:40:16  train  18  124979       1    3      379    14   \n",
       "14       2017-11-06 14:40:39  train  18   38816       1    3      379    14   \n",
       "15       2017-11-06 14:40:51  train  19   80447       1    3      379    14   \n",
       "16       2017-11-06 14:43:10  train  13  134575       1    3      379    14   \n",
       "17       2017-11-06 14:43:14  train  19   57576       1    3      379    14   \n",
       "18       2017-11-06 14:43:25  train  13    7755       1    3      379    14   \n",
       "19       2017-11-06 14:43:51  train  19   91749       1    3      379    14   \n",
       "20       2017-11-06 14:44:02  train  18   50694       1    3      379    14   \n",
       "21       2017-11-06 14:44:15  train  18  111385       1    3      379    14   \n",
       "22       2017-11-06 14:44:51  train   3  125222       1   14      478    14   \n",
       "23       2017-11-06 14:44:51  train  13  191759       1    3      379    14   \n",
       "24       2017-11-06 14:44:52  train  17   53418       1    3      379    14   \n",
       "25       2017-11-06 14:47:49  train  19  183168       1    3      379    14   \n",
       "26       2017-11-06 14:48:07  train  17   47902       1    3      379    14   \n",
       "27       2017-11-06 14:48:55  train  13  209663       1    3      379    14   \n",
       "28       2017-11-06 14:49:36  train  20  129614       1    3      379    14   \n",
       "29       2017-11-06 14:49:38  train  19  208347       1    3      379    14   \n",
       "...                      ...    ...  ..     ...     ...  ...      ...   ...   \n",
       "18790439 2017-11-10 15:00:00   test  13   51432       1   27      153    15   \n",
       "18790440 2017-11-10 15:00:00   test  19   14334       1   14      401    15   \n",
       "18790441 2017-11-10 15:00:00   test  13   16749       1    9      334    15   \n",
       "18790442 2017-11-10 15:00:00   test  13   17814       1   23      153    15   \n",
       "18790443 2017-11-10 15:00:00   test  13    8825       1   21      232    15   \n",
       "18790444 2017-11-10 15:00:00   test  13  115536       2    8      259    15   \n",
       "18790445 2017-11-10 15:00:00   test  19  121472       1    2      205    15   \n",
       "18790446 2017-11-10 15:00:00   test  12   38000       1   12      242    15   \n",
       "18790447 2017-11-10 15:00:00   test  19   66176       1    1      125    15   \n",
       "18790448 2017-11-10 15:00:00   test  22   25553       1    2      205    15   \n",
       "18790449 2017-11-10 15:00:00   test  19  119531       2   21      128    15   \n",
       "18790450 2017-11-10 15:00:00   test  53   14062       1   13      469    15   \n",
       "18790451 2017-11-10 15:00:00   test  19   48536       1   14      442    15   \n",
       "18790452 2017-11-10 15:00:00   test  19   93291       1    1      125    15   \n",
       "18790453 2017-11-10 15:00:00   test  19   93291       1    9      258    15   \n",
       "18790454 2017-11-10 15:00:00   test  22   55874       1    1      125    15   \n",
       "18790455 2017-11-10 15:00:00   test  19   93291       1    9      145    15   \n",
       "18790456 2017-11-10 15:00:00   test  18  100697       1    8      259    15   \n",
       "18790457 2017-11-10 15:00:00   test  19   93291       1   20      259    15   \n",
       "18790458 2017-11-10 15:00:00   test  14   85329       1    2      452    15   \n",
       "18790459 2017-11-10 15:00:00   test  17  102467       1   15      140    15   \n",
       "18790460 2017-11-10 15:00:00   test  19   80537       1    9      445    15   \n",
       "18790461 2017-11-10 15:00:00   test  16  101214       2    2      237    15   \n",
       "18790462 2017-11-10 15:00:00   test  17  113418       1   17      128    15   \n",
       "18790463 2017-11-10 15:00:00   test  13   69245       1   12      135    15   \n",
       "18790464 2017-11-10 15:00:00   test  13   99442       1    9      127    15   \n",
       "18790465 2017-11-10 15:00:00   test  37   88046       1   23      153    15   \n",
       "18790466 2017-11-10 15:00:00   test  17   81398       1   18      265    15   \n",
       "18790467 2017-11-10 15:00:00   test  13  123236       1   27      122    15   \n",
       "18790468 2017-11-10 15:00:00   test  27   73516       2   12      265    15   \n",
       "\n",
       "          month  day     ...       device_1  device_2  os_-999  os_13  os_17  \\\n",
       "0            11    6     ...              1         0        0      1      0   \n",
       "1            11    6     ...              1         0        0      0      0   \n",
       "2            11    6     ...              1         0        0      1      0   \n",
       "3            11    6     ...              1         0        0      1      0   \n",
       "4            11    6     ...              1         0        0      1      0   \n",
       "5            11    6     ...              1         0        1      0      0   \n",
       "6            11    6     ...              1         0        1      0      0   \n",
       "7            11    6     ...              1         0        0      0      0   \n",
       "8            11    6     ...              1         0        0      1      0   \n",
       "9            11    6     ...              1         0        1      0      0   \n",
       "10           11    6     ...              1         0        1      0      0   \n",
       "11           11    6     ...              1         0        0      1      0   \n",
       "12           11    6     ...              1         0        0      0      0   \n",
       "13           11    6     ...              1         0        1      0      0   \n",
       "14           11    6     ...              1         0        1      0      0   \n",
       "15           11    6     ...              1         0        0      0      0   \n",
       "16           11    6     ...              1         0        0      1      0   \n",
       "17           11    6     ...              1         0        0      0      0   \n",
       "18           11    6     ...              1         0        0      1      0   \n",
       "19           11    6     ...              1         0        0      0      0   \n",
       "20           11    6     ...              1         0        1      0      0   \n",
       "21           11    6     ...              1         0        1      0      0   \n",
       "22           11    6     ...              1         0        1      0      0   \n",
       "23           11    6     ...              1         0        0      1      0   \n",
       "24           11    6     ...              1         0        0      0      1   \n",
       "25           11    6     ...              1         0        0      0      0   \n",
       "26           11    6     ...              1         0        0      0      1   \n",
       "27           11    6     ...              1         0        0      1      0   \n",
       "28           11    6     ...              1         0        1      0      0   \n",
       "29           11    6     ...              1         0        0      0      0   \n",
       "...         ...  ...     ...            ...       ...      ...    ...    ...   \n",
       "18790439     11   10     ...              1         0        0      1      0   \n",
       "18790440     11   10     ...              1         0        0      0      0   \n",
       "18790441     11   10     ...              1         0        0      1      0   \n",
       "18790442     11   10     ...              1         0        0      1      0   \n",
       "18790443     11   10     ...              1         0        0      1      0   \n",
       "18790444     11   10     ...              0         1        0      1      0   \n",
       "18790445     11   10     ...              1         0        0      0      0   \n",
       "18790446     11   10     ...              1         0        1      0      0   \n",
       "18790447     11   10     ...              1         0        0      0      0   \n",
       "18790448     11   10     ...              1         0        1      0      0   \n",
       "18790449     11   10     ...              0         1        0      0      0   \n",
       "18790450     11   10     ...              1         0        1      0      0   \n",
       "18790451     11   10     ...              1         0        0      0      0   \n",
       "18790452     11   10     ...              1         0        0      0      0   \n",
       "18790453     11   10     ...              1         0        0      0      0   \n",
       "18790454     11   10     ...              1         0        1      0      0   \n",
       "18790455     11   10     ...              1         0        0      0      0   \n",
       "18790456     11   10     ...              1         0        1      0      0   \n",
       "18790457     11   10     ...              1         0        0      0      0   \n",
       "18790458     11   10     ...              1         0        1      0      0   \n",
       "18790459     11   10     ...              1         0        0      0      1   \n",
       "18790460     11   10     ...              1         0        0      0      0   \n",
       "18790461     11   10     ...              0         1        1      0      0   \n",
       "18790462     11   10     ...              1         0        0      0      1   \n",
       "18790463     11   10     ...              1         0        0      1      0   \n",
       "18790464     11   10     ...              1         0        0      1      0   \n",
       "18790465     11   10     ...              1         0        1      0      0   \n",
       "18790466     11   10     ...              1         0        0      0      1   \n",
       "18790467     11   10     ...              1         0        0      1      0   \n",
       "18790468     11   10     ...              0         1        1      0      0   \n",
       "\n",
       "          os_19  channel_-999  channel_107  channel_265  channel_477  \n",
       "0             0             1            0            0            0  \n",
       "1             1             1            0            0            0  \n",
       "2             0             1            0            0            0  \n",
       "3             0             1            0            0            0  \n",
       "4             0             1            0            0            0  \n",
       "5             0             1            0            0            0  \n",
       "6             0             1            0            0            0  \n",
       "7             1             1            0            0            0  \n",
       "8             0             1            0            0            0  \n",
       "9             0             1            0            0            0  \n",
       "10            0             1            0            0            0  \n",
       "11            0             1            0            0            0  \n",
       "12            1             1            0            0            0  \n",
       "13            0             1            0            0            0  \n",
       "14            0             1            0            0            0  \n",
       "15            1             1            0            0            0  \n",
       "16            0             1            0            0            0  \n",
       "17            1             1            0            0            0  \n",
       "18            0             1            0            0            0  \n",
       "19            1             1            0            0            0  \n",
       "20            0             1            0            0            0  \n",
       "21            0             1            0            0            0  \n",
       "22            0             1            0            0            0  \n",
       "23            0             1            0            0            0  \n",
       "24            0             1            0            0            0  \n",
       "25            1             1            0            0            0  \n",
       "26            0             1            0            0            0  \n",
       "27            0             1            0            0            0  \n",
       "28            0             1            0            0            0  \n",
       "29            1             1            0            0            0  \n",
       "...         ...           ...          ...          ...          ...  \n",
       "18790439      0             1            0            0            0  \n",
       "18790440      1             1            0            0            0  \n",
       "18790441      0             1            0            0            0  \n",
       "18790442      0             1            0            0            0  \n",
       "18790443      0             1            0            0            0  \n",
       "18790444      0             1            0            0            0  \n",
       "18790445      1             1            0            0            0  \n",
       "18790446      0             1            0            0            0  \n",
       "18790447      1             1            0            0            0  \n",
       "18790448      0             1            0            0            0  \n",
       "18790449      1             1            0            0            0  \n",
       "18790450      0             1            0            0            0  \n",
       "18790451      1             1            0            0            0  \n",
       "18790452      1             1            0            0            0  \n",
       "18790453      1             1            0            0            0  \n",
       "18790454      0             1            0            0            0  \n",
       "18790455      1             1            0            0            0  \n",
       "18790456      0             1            0            0            0  \n",
       "18790457      1             1            0            0            0  \n",
       "18790458      0             1            0            0            0  \n",
       "18790459      0             1            0            0            0  \n",
       "18790460      1             1            0            0            0  \n",
       "18790461      0             1            0            0            0  \n",
       "18790462      0             1            0            0            0  \n",
       "18790463      0             1            0            0            0  \n",
       "18790464      0             1            0            0            0  \n",
       "18790465      0             1            0            0            0  \n",
       "18790466      0             0            0            1            0  \n",
       "18790467      0             1            0            0            0  \n",
       "18790468      0             0            0            1            0  \n",
       "\n",
       "[21790469 rows x 26 columns]"
      ]
     },
     "execution_count": 16,
     "metadata": {},
     "output_type": "execute_result"
    }
   ],
   "source": [
    "comb_df"
   ]
  },
  {
   "cell_type": "code",
   "execution_count": 17,
   "metadata": {
    "collapsed": true
   },
   "outputs": [],
   "source": [
    "# Create train_X, train_y and test_X\n",
    "train_X = comb_df[comb_df.df == 'train']\n",
    "test_X = comb_df[comb_df.df == 'test']"
   ]
  },
  {
   "cell_type": "code",
   "execution_count": 67,
   "metadata": {},
   "outputs": [
    {
     "data": {
      "text/plain": [
       "Index(['df', 'click_time', 'channel', 'app', 'device', 'os', 'ip', 'hour',\n",
       "       'month', 'day', 'app_-999', 'app_3', 'app_9', 'app_12', 'device_-999',\n",
       "       'device_0', 'device_1', 'device_2', 'os_-999', 'os_13', 'os_17',\n",
       "       'os_19', 'channel_-999', 'channel_107', 'channel_265', 'channel_477'],\n",
       "      dtype='object')"
      ]
     },
     "execution_count": 67,
     "metadata": {},
     "output_type": "execute_result"
    }
   ],
   "source": [
    "test_X.columns"
   ]
  },
  {
   "cell_type": "code",
   "execution_count": 28,
   "metadata": {},
   "outputs": [
    {
     "data": {
      "text/plain": [
       "<matplotlib.axes._subplots.AxesSubplot at 0x16a48bf28>"
      ]
     },
     "execution_count": 28,
     "metadata": {},
     "output_type": "execute_result"
    },
    {
     "data": {
      "image/png": "[encoded data removed]",
      "text/plain": [
       "<matplotlib.figure.Figure at 0x16a3eb940>"
      ]
     },
     "metadata": {},
     "output_type": "display_data"
    }
   ],
   "source": [
    "var_2_plot = 'app'\n",
    "f, ax = plt.subplots(1,3,figsize=(18,6))\n",
    "train.query('is_attributed == 1')[var_2_plot].value_counts().head(10).plot(kind='bar',ax=ax[0])\n",
    "train.query('is_attributed == 0')[var_2_plot].value_counts().head(10).plot(kind='bar',ax=ax[1])\n",
    "pd.concat([train[[var_2_plot]],test[[var_2_plot]]])[var_2_plot].value_counts().head(10).plot(kind='bar',ax=ax[2])"
   ]
  },
  {
   "cell_type": "code",
   "execution_count": 29,
   "metadata": {},
   "outputs": [
    {
     "data": {
      "text/plain": [
       "<matplotlib.axes._subplots.AxesSubplot at 0x16a8cdba8>"
      ]
     },
     "execution_count": 29,
     "metadata": {},
     "output_type": "execute_result"
    },
    {
     "data": {
      "image/png": "[encoded data removed]",
      "text/plain": [
       "<matplotlib.figure.Figure at 0x16a82e908>"
      ]
     },
     "metadata": {},
     "output_type": "display_data"
    }
   ],
   "source": [
    "var_2_plot = 'channel'\n",
    "f, ax = plt.subplots(1,3,figsize=(18,6))\n",
    "train.query('is_attributed == 1')[var_2_plot].value_counts().head(10).plot(kind='bar',ax=ax[0])\n",
    "train.query('is_attributed == 0')[var_2_plot].value_counts().head(10).plot(kind='bar',ax=ax[1])\n",
    "pd.concat([train[[var_2_plot]],test[[var_2_plot]]])[var_2_plot].value_counts().head(10).plot(kind='bar',ax=ax[2])"
   ]
  },
  {
   "cell_type": "code",
   "execution_count": 30,
   "metadata": {},
   "outputs": [
    {
     "data": {
      "text/plain": [
       "<matplotlib.axes._subplots.AxesSubplot at 0x16ad15048>"
      ]
     },
     "execution_count": 30,
     "metadata": {},
     "output_type": "execute_result"
    },
    {
     "data": {
      "image/png": "[encoded data removed]",
      "text/plain": [
       "<matplotlib.figure.Figure at 0x16ac6aac8>"
      ]
     },
     "metadata": {},
     "output_type": "display_data"
    }
   ],
   "source": [
    "var_2_plot = 'device'\n",
    "f, ax = plt.subplots(1,3,figsize=(18,6))\n",
    "train.query('is_attributed == 1')[var_2_plot].value_counts().head(10).plot(kind='bar',ax=ax[0])\n",
    "train.query('is_attributed == 0')[var_2_plot].value_counts().head(10).plot(kind='bar',ax=ax[1])\n",
    "pd.concat([train[[var_2_plot]],test[[var_2_plot]]])[var_2_plot].value_counts().head(10).plot(kind='bar',ax=ax[2])"
   ]
  },
  {
   "cell_type": "code",
   "execution_count": 31,
   "metadata": {},
   "outputs": [
    {
     "data": {
      "text/plain": [
       "<matplotlib.axes._subplots.AxesSubplot at 0x172ccd8d0>"
      ]
     },
     "execution_count": 31,
     "metadata": {},
     "output_type": "execute_result"
    },
    {
     "data": {
      "image/png": "[encoded data removed]",
      "text/plain": [
       "<matplotlib.figure.Figure at 0x16b0afa90>"
      ]
     },
     "metadata": {},
     "output_type": "display_data"
    }
   ],
   "source": [
    "var_2_plot = 'os'\n",
    "f, ax = plt.subplots(1,3,figsize=(18,6))\n",
    "train.query('is_attributed == 1')[var_2_plot].value_counts().head(10).plot(kind='bar',ax=ax[0])\n",
    "train.query('is_attributed == 0')[var_2_plot].value_counts().head(10).plot(kind='bar',ax=ax[1])\n",
    "pd.concat([train[[var_2_plot]],test[[var_2_plot]]])[var_2_plot].value_counts().head(10).plot(kind='bar',ax=ax[2])"
   ]
  },
  {
   "cell_type": "code",
   "execution_count": 68,
   "metadata": {},
   "outputs": [
    {
     "data": {
      "text/plain": [
       "Index(['df', 'click_time', 'channel', 'app', 'device', 'os', 'ip', 'hour',\n",
       "       'month', 'day', 'app_-999', 'app_3', 'app_9', 'app_12', 'device_-999',\n",
       "       'device_0', 'device_1', 'device_2', 'os_-999', 'os_13', 'os_17',\n",
       "       'os_19', 'channel_-999', 'channel_107', 'channel_265', 'channel_477'],\n",
       "      dtype='object')"
      ]
     },
     "execution_count": 68,
     "metadata": {},
     "output_type": "execute_result"
    }
   ],
   "source": [
    "train_X.columns"
   ]
  },
  {
   "cell_type": "code",
   "execution_count": 20,
   "metadata": {
    "collapsed": true
   },
   "outputs": [],
   "source": [
    "feats_to_remove = ['df', 'click_time', 'channel', 'app', 'device', 'os', 'ip']\n",
    "train_X = train_X.drop(feats_to_remove, axis=1)\n",
    "train_y = train['is_attributed']\n",
    "\n",
    "test_X = test_X.drop(feats_to_remove, axis=1)\n",
    "test_y = test['click_id']"
   ]
  },
  {
   "cell_type": "code",
   "execution_count": null,
   "metadata": {
    "collapsed": true
   },
   "outputs": [],
   "source": [
    "set(train_X.columns) == set(test_X.columns)"
   ]
  },
  {
   "cell_type": "code",
   "execution_count": 71,
   "metadata": {},
   "outputs": [
    {
     "data": {
      "text/plain": [
       "Index(['hour', 'month', 'day', 'app_-999', 'app_3', 'app_9', 'app_12',\n",
       "       'device_-999', 'device_0', 'device_1', 'device_2', 'os_-999', 'os_13',\n",
       "       'os_17', 'os_19', 'channel_-999', 'channel_107', 'channel_265',\n",
       "       'channel_477'],\n",
       "      dtype='object')"
      ]
     },
     "execution_count": 71,
     "metadata": {},
     "output_type": "execute_result"
    }
   ],
   "source": [
    "train_X.columns"
   ]
  },
  {
   "cell_type": "code",
   "execution_count": 72,
   "metadata": {},
   "outputs": [
    {
     "data": {
      "text/plain": [
       "Index(['hour', 'month', 'day', 'app_-999', 'app_3', 'app_9', 'app_12',\n",
       "       'device_-999', 'device_0', 'device_1', 'device_2', 'os_-999', 'os_13',\n",
       "       'os_17', 'os_19', 'channel_-999', 'channel_107', 'channel_265',\n",
       "       'channel_477'],\n",
       "      dtype='object')"
      ]
     },
     "execution_count": 72,
     "metadata": {},
     "output_type": "execute_result"
    }
   ],
   "source": [
    "test_X.columns"
   ]
  },
  {
   "cell_type": "code",
   "execution_count": 82,
   "metadata": {
    "collapsed": true
   },
   "outputs": [],
   "source": [
    "from sklearn.ensemble import RandomForestClassifier as RFM\n",
    "\n",
    "rfm = RFM()\n",
    "rfm.fit(train_X, train_y)\n",
    "rfm_predict = rfm.predict(test_X)\n",
    "\n",
    "submission_path = '/Users/daniellee/Dropbox/Jupyter/Kaggle/talkingdata_fraud/submissions/'\n",
    "\n",
    "test['is_attributed'] = rfm_predict\n",
    "submission_df = test[['click_id','is_attributed']]\n",
    "submission_df.to_csv(submission_path+'submission_01_basic_features_rfm.csv')"
   ]
  },
  {
   "cell_type": "markdown",
   "metadata": {
    "collapsed": true
   },
   "source": [
    "## Approach #2"
   ]
  },
  {
   "cell_type": "code",
   "execution_count": 18,
   "metadata": {
    "collapsed": true
   },
   "outputs": [],
   "source": [
    "from sklearn.linear_model import SGDClassifier\n",
    "\n",
    "sgd = (\n",
    "    SGDClassifier(\n",
    "        class_weight={1:10}\n",
    "    )\n",
    ")"
   ]
  },
  {
   "cell_type": "code",
   "execution_count": 21,
   "metadata": {},
   "outputs": [
    {
     "name": "stderr",
     "output_type": "stream",
     "text": [
      "/Users/daniellee/anaconda3/lib/python3.6/site-packages/sklearn/linear_model/stochastic_gradient.py:128: FutureWarning: max_iter and tol parameters have been added in <class 'sklearn.linear_model.stochastic_gradient.SGDClassifier'> in 0.19. If both are left unset, they default to max_iter=5 and tol=None. If tol is not None, max_iter defaults to max_iter=1000. From 0.21, default max_iter will be 1000, and default tol will be 1e-3.\n",
      "  \"and default tol will be 1e-3.\" % type(self), FutureWarning)\n"
     ]
    },
    {
     "data": {
      "text/plain": [
       "SGDClassifier(alpha=0.0001, average=False, class_weight={1: 10}, epsilon=0.1,\n",
       "       eta0=0.0, fit_intercept=True, l1_ratio=0.15,\n",
       "       learning_rate='optimal', loss='hinge', max_iter=None, n_iter=None,\n",
       "       n_jobs=1, penalty='l2', power_t=0.5, random_state=None,\n",
       "       shuffle=True, tol=None, verbose=0, warm_start=False)"
      ]
     },
     "execution_count": 21,
     "metadata": {},
     "output_type": "execute_result"
    }
   ],
   "source": [
    "sgd.fit(train_X, train_y)"
   ]
  },
  {
   "cell_type": "code",
   "execution_count": 28,
   "metadata": {
    "collapsed": true
   },
   "outputs": [],
   "source": [
    "sgd_predict = sgd.predict(test_X)"
   ]
  },
  {
   "cell_type": "code",
   "execution_count": 37,
   "metadata": {
    "collapsed": true
   },
   "outputs": [],
   "source": [
    "test['sgd_predict'] = sgd_predict"
   ]
  },
  {
   "cell_type": "code",
   "execution_count": 39,
   "metadata": {},
   "outputs": [
    {
     "ename": "NameError",
     "evalue": "name 'submission_path' is not defined",
     "output_type": "error",
     "traceback": [
      "\u001b[0;31m---------------------------------------------------------------------------\u001b[0m",
      "\u001b[0;31mNameError\u001b[0m                                 Traceback (most recent call last)",
      "\u001b[0;32m<ipython-input-39-5dc9a30110db>\u001b[0m in \u001b[0;36m<module>\u001b[0;34m()\u001b[0m\n\u001b[1;32m      1\u001b[0m \u001b[0msubmission_df\u001b[0m \u001b[0;34m=\u001b[0m \u001b[0mtest\u001b[0m\u001b[0;34m[\u001b[0m\u001b[0;34m[\u001b[0m\u001b[0;34m'click_id'\u001b[0m\u001b[0;34m,\u001b[0m\u001b[0;34m'sgd_predict'\u001b[0m\u001b[0;34m]\u001b[0m\u001b[0;34m]\u001b[0m\u001b[0;34m\u001b[0m\u001b[0m\n\u001b[1;32m      2\u001b[0m \u001b[0msubmission_df\u001b[0m\u001b[0;34m.\u001b[0m\u001b[0mcolumns\u001b[0m \u001b[0;34m=\u001b[0m \u001b[0;34m[\u001b[0m\u001b[0;34m'click_id'\u001b[0m\u001b[0;34m,\u001b[0m\u001b[0;34m'is_attributed'\u001b[0m\u001b[0;34m]\u001b[0m\u001b[0;34m\u001b[0m\u001b[0m\n\u001b[0;32m----> 3\u001b[0;31m \u001b[0msubmission_df\u001b[0m\u001b[0;34m.\u001b[0m\u001b[0mto_csv\u001b[0m\u001b[0;34m(\u001b[0m\u001b[0msubmission_path\u001b[0m\u001b[0;34m+\u001b[0m\u001b[0;34m'submission_02_basic_features_sgd_weigthed.csv'\u001b[0m\u001b[0;34m)\u001b[0m\u001b[0;34m\u001b[0m\u001b[0m\n\u001b[0m",
      "\u001b[0;31mNameError\u001b[0m: name 'submission_path' is not defined"
     ]
    }
   ],
   "source": [
    "submission_df = test[['click_id','sgd_predict']]\n",
    "submission_df.columns = ['click_id','is_attributed']\n",
    "submission_df.to_csv(submission_path+'submission_02_basic_features_sgd_weigthed.csv')"
   ]
  },
  {
   "cell_type": "code",
   "execution_count": 40,
   "metadata": {
    "collapsed": true
   },
   "outputs": [],
   "source": [
    "submission_path = '/Users/daniellee/Dropbox/Jupyter/Kaggle/talkingdata_fraud/submissions/'\n"
   ]
  },
  {
   "cell_type": "code",
   "execution_count": 42,
   "metadata": {},
   "outputs": [
    {
     "data": {
      "text/plain": [
       "(18790469, 9)"
      ]
     },
     "execution_count": 42,
     "metadata": {},
     "output_type": "execute_result"
    }
   ],
   "source": [
    "test.shape"
   ]
  },
  {
   "cell_type": "code",
   "execution_count": 44,
   "metadata": {},
   "outputs": [
    {
     "data": {
      "text/plain": [
       "(18790469, 2)"
      ]
     },
     "execution_count": 44,
     "metadata": {},
     "output_type": "execute_result"
    }
   ],
   "source": [
    "submission_df.shape"
   ]
  },
  {
   "cell_type": "code",
   "execution_count": 41,
   "metadata": {
    "collapsed": true
   },
   "outputs": [],
   "source": [
    "submission_df.to_csv(submission_path+'submission_02_basic_features_sgd_weigthed.csv')"
   ]
  },
  {
   "cell_type": "markdown",
   "metadata": {},
   "source": [
    "## Approach #3 - EDA"
   ]
  },
  {
   "cell_type": "code",
   "execution_count": 275,
   "metadata": {
    "collapsed": true
   },
   "outputs": [],
   "source": [
    "ip_attributed = train[train.is_attributed == 1]['ip'].unique()"
   ]
  },
  {
   "cell_type": "code",
   "execution_count": 277,
   "metadata": {},
   "outputs": [
    {
     "data": {
      "text/plain": [
       "(13272,)"
      ]
     },
     "execution_count": 277,
     "metadata": {},
     "output_type": "execute_result"
    }
   ],
   "source": [
    "ip_attributed.shape"
   ]
  },
  {
   "cell_type": "code",
   "execution_count": 81,
   "metadata": {
    "collapsed": true
   },
   "outputs": [],
   "source": [
    "# Does order matter? <= Yes it does!"
   ]
  },
  {
   "cell_type": "code",
   "execution_count": 276,
   "metadata": {
    "collapsed": true
   },
   "outputs": [],
   "source": [
    "train['row_number'] = train.groupby('ip').cumcount()"
   ]
  },
  {
   "cell_type": "code",
   "execution_count": 278,
   "metadata": {},
   "outputs": [
    {
     "data": {
      "text/plain": [
       "<matplotlib.axes._subplots.AxesSubplot at 0x2440b8400>"
      ]
     },
     "execution_count": 278,
     "metadata": {},
     "output_type": "execute_result"
    },
    {
     "data": {
      "image/png": "[encoded data removed]",
      "text/plain": [
       "<matplotlib.figure.Figure at 0x2ba3d3c88>"
      ]
     },
     "metadata": {},
     "output_type": "display_data"
    }
   ],
   "source": [
    "train[train.is_attributed == 1]['row_number'].hist(figsize=(12,6),bins=50)"
   ]
  },
  {
   "cell_type": "code",
   "execution_count": 279,
   "metadata": {},
   "outputs": [
    {
     "data": {
      "text/plain": [
       "0        0.249736\n",
       "1        0.113672\n",
       "2        0.047094\n",
       "3        0.025297\n",
       "4        0.018560\n",
       "5        0.013078\n",
       "6        0.011889\n",
       "7        0.009577\n",
       "9        0.008388\n",
       "8        0.008124\n",
       "10       0.008058\n",
       "11       0.007992\n",
       "13       0.007926\n",
       "12       0.007332\n",
       "14       0.005945\n",
       "18       0.005878\n",
       "15       0.005680\n",
       "17       0.005614\n",
       "16       0.005284\n",
       "19       0.005152\n",
       "20       0.005020\n",
       "23       0.004756\n",
       "27       0.004425\n",
       "21       0.004227\n",
       "29       0.004161\n",
       "24       0.003897\n",
       "25       0.003831\n",
       "26       0.003831\n",
       "31       0.003633\n",
       "37       0.003567\n",
       "           ...   \n",
       "924      0.000066\n",
       "964      0.000066\n",
       "1004     0.000066\n",
       "7175     0.000066\n",
       "1052     0.000066\n",
       "23591    0.000066\n",
       "9256     0.000066\n",
       "1068     0.000066\n",
       "1076     0.000066\n",
       "1116     0.000066\n",
       "820      0.000066\n",
       "804      0.000066\n",
       "2621     0.000066\n",
       "796      0.000066\n",
       "580      0.000066\n",
       "628      0.000066\n",
       "636      0.000066\n",
       "2701     0.000066\n",
       "668      0.000066\n",
       "676      0.000066\n",
       "2725     0.000066\n",
       "2733     0.000066\n",
       "700      0.000066\n",
       "2749     0.000066\n",
       "8896     0.000066\n",
       "708      0.000066\n",
       "716      0.000066\n",
       "732      0.000066\n",
       "4870     0.000066\n",
       "1531     0.000066\n",
       "Name: row_number, Length: 1679, dtype: float64"
      ]
     },
     "execution_count": 279,
     "metadata": {},
     "output_type": "execute_result"
    }
   ],
   "source": [
    "train[train.is_attributed == 1]['row_number'].value_counts() / train.is_attributed.sum()"
   ]
  },
  {
   "cell_type": "code",
   "execution_count": null,
   "metadata": {
    "collapsed": true
   },
   "outputs": [],
   "source": [
    "# Do user's number of clicks convey anything about their attribution likelihood? <= Yes \n",
    "\n",
    "ip_attributed = train.loc[train.is_attributed == 1, 'ip'].unique()"
   ]
  },
  {
   "cell_type": "code",
   "execution_count": null,
   "metadata": {
    "collapsed": true
   },
   "outputs": [],
   "source": [
    "train_ip_attributed = train.loc[train.ip.isin(ip_attributed)].groupby('ip')['os'].count()"
   ]
  },
  {
   "cell_type": "code",
   "execution_count": null,
   "metadata": {
    "collapsed": true
   },
   "outputs": [],
   "source": [
    "train_ip_attributed.hist(bins=100, figsize=(18,8))"
   ]
  },
  {
   "cell_type": "code",
   "execution_count": null,
   "metadata": {
    "collapsed": true
   },
   "outputs": [],
   "source": [
    "train_ip_attributed.value_counts()"
   ]
  },
  {
   "cell_type": "code",
   "execution_count": 254,
   "metadata": {},
   "outputs": [
    {
     "data": {
      "text/html": [
       "<div>\n",
       "<style>\n",
       "    .dataframe thead tr:only-child th {\n",
       "        text-align: right;\n",
       "    }\n",
       "\n",
       "    .dataframe thead th {\n",
       "        text-align: left;\n",
       "    }\n",
       "\n",
       "    .dataframe tbody tr th {\n",
       "        vertical-align: top;\n",
       "    }\n",
       "</style>\n",
       "<table border=\"1\" class=\"dataframe\">\n",
       "  <thead>\n",
       "    <tr style=\"text-align: right;\">\n",
       "      <th></th>\n",
       "      <th>ip</th>\n",
       "      <th>app</th>\n",
       "      <th>device</th>\n",
       "      <th>os</th>\n",
       "      <th>channel</th>\n",
       "      <th>click_time</th>\n",
       "      <th>attributed_time</th>\n",
       "      <th>is_attributed</th>\n",
       "      <th>attribute_ip</th>\n",
       "      <th>date</th>\n",
       "      <th>timestamp</th>\n",
       "      <th>click_time_no_seconds</th>\n",
       "    </tr>\n",
       "  </thead>\n",
       "  <tbody>\n",
       "    <tr>\n",
       "      <th>2474</th>\n",
       "      <td>57546</td>\n",
       "      <td>12</td>\n",
       "      <td>1</td>\n",
       "      <td>22</td>\n",
       "      <td>245</td>\n",
       "      <td>2017-11-06 16:00:03</td>\n",
       "      <td>NaN</td>\n",
       "      <td>0</td>\n",
       "      <td>1</td>\n",
       "      <td>2017-11-06</td>\n",
       "      <td>2018-03-10 16:00:03</td>\n",
       "      <td>2017-11-06 16:00:00</td>\n",
       "    </tr>\n",
       "    <tr>\n",
       "      <th>2522</th>\n",
       "      <td>57546</td>\n",
       "      <td>18</td>\n",
       "      <td>1</td>\n",
       "      <td>22</td>\n",
       "      <td>121</td>\n",
       "      <td>2017-11-06 16:00:03</td>\n",
       "      <td>NaN</td>\n",
       "      <td>0</td>\n",
       "      <td>1</td>\n",
       "      <td>2017-11-06</td>\n",
       "      <td>2018-03-10 16:00:03</td>\n",
       "      <td>2017-11-06 16:00:00</td>\n",
       "    </tr>\n",
       "    <tr>\n",
       "      <th>2649</th>\n",
       "      <td>57546</td>\n",
       "      <td>15</td>\n",
       "      <td>1</td>\n",
       "      <td>22</td>\n",
       "      <td>245</td>\n",
       "      <td>2017-11-06 16:00:03</td>\n",
       "      <td>NaN</td>\n",
       "      <td>0</td>\n",
       "      <td>1</td>\n",
       "      <td>2017-11-06</td>\n",
       "      <td>2018-03-10 16:00:03</td>\n",
       "      <td>2017-11-06 16:00:00</td>\n",
       "    </tr>\n",
       "    <tr>\n",
       "      <th>5282</th>\n",
       "      <td>57546</td>\n",
       "      <td>29</td>\n",
       "      <td>1</td>\n",
       "      <td>41</td>\n",
       "      <td>213</td>\n",
       "      <td>2017-11-06 16:00:07</td>\n",
       "      <td>2017-11-06 16:03:51</td>\n",
       "      <td>1</td>\n",
       "      <td>1</td>\n",
       "      <td>2017-11-06</td>\n",
       "      <td>2018-03-10 16:00:07</td>\n",
       "      <td>2017-11-06 16:00:00</td>\n",
       "    </tr>\n",
       "    <tr>\n",
       "      <th>52843</th>\n",
       "      <td>57546</td>\n",
       "      <td>12</td>\n",
       "      <td>1</td>\n",
       "      <td>22</td>\n",
       "      <td>245</td>\n",
       "      <td>2017-11-06 16:00:57</td>\n",
       "      <td>NaN</td>\n",
       "      <td>0</td>\n",
       "      <td>1</td>\n",
       "      <td>2017-11-06</td>\n",
       "      <td>2018-03-10 16:00:57</td>\n",
       "      <td>2017-11-06 16:00:00</td>\n",
       "    </tr>\n",
       "  </tbody>\n",
       "</table>\n",
       "</div>"
      ],
      "text/plain": [
       "          ip  app  device  os  channel           click_time  \\\n",
       "2474   57546   12       1  22      245  2017-11-06 16:00:03   \n",
       "2522   57546   18       1  22      121  2017-11-06 16:00:03   \n",
       "2649   57546   15       1  22      245  2017-11-06 16:00:03   \n",
       "5282   57546   29       1  41      213  2017-11-06 16:00:07   \n",
       "52843  57546   12       1  22      245  2017-11-06 16:00:57   \n",
       "\n",
       "           attributed_time  is_attributed  attribute_ip       date  \\\n",
       "2474                   NaN              0             1 2017-11-06   \n",
       "2522                   NaN              0             1 2017-11-06   \n",
       "2649                   NaN              0             1 2017-11-06   \n",
       "5282   2017-11-06 16:03:51              1             1 2017-11-06   \n",
       "52843                  NaN              0             1 2017-11-06   \n",
       "\n",
       "                timestamp click_time_no_seconds  \n",
       "2474  2018-03-10 16:00:03   2017-11-06 16:00:00  \n",
       "2522  2018-03-10 16:00:03   2017-11-06 16:00:00  \n",
       "2649  2018-03-10 16:00:03   2017-11-06 16:00:00  \n",
       "5282  2018-03-10 16:00:07   2017-11-06 16:00:00  \n",
       "52843 2018-03-10 16:00:57   2017-11-06 16:00:00  "
      ]
     },
     "execution_count": 254,
     "metadata": {},
     "output_type": "execute_result"
    }
   ],
   "source": [
    "train[train.ip == ip_attributed[7]].head()"
   ]
  },
  {
   "cell_type": "code",
   "execution_count": 128,
   "metadata": {},
   "outputs": [
    {
     "data": {
      "text/plain": [
       "'2017-11-10 15:00:00'"
      ]
     },
     "execution_count": 128,
     "metadata": {},
     "output_type": "execute_result"
    }
   ],
   "source": [
    "test['click_time'].max()"
   ]
  },
  {
   "cell_type": "code",
   "execution_count": 129,
   "metadata": {},
   "outputs": [
    {
     "data": {
      "text/plain": [
       "'2017-11-10 04:00:00'"
      ]
     },
     "execution_count": 129,
     "metadata": {},
     "output_type": "execute_result"
    }
   ],
   "source": [
    "test['click_time'].min()"
   ]
  },
  {
   "cell_type": "code",
   "execution_count": 127,
   "metadata": {},
   "outputs": [
    {
     "data": {
      "text/plain": [
       "'2017-11-06 17:28:00'"
      ]
     },
     "execution_count": 127,
     "metadata": {},
     "output_type": "execute_result"
    }
   ],
   "source": [
    "train['click_time'].max()"
   ]
  },
  {
   "cell_type": "markdown",
   "metadata": {},
   "source": [
    "## EDA - Attribute Individuals vs Non-Attribute Individuals"
   ]
  },
  {
   "cell_type": "code",
   "execution_count": 269,
   "metadata": {
    "collapsed": true
   },
   "outputs": [],
   "source": [
    "train['attribute_ip'] = 0"
   ]
  },
  {
   "cell_type": "code",
   "execution_count": 270,
   "metadata": {
    "collapsed": true
   },
   "outputs": [],
   "source": [
    "train.loc[train.ip.isin(ip_attributed),'attribute_ip'] = 1"
   ]
  },
  {
   "cell_type": "code",
   "execution_count": 271,
   "metadata": {
    "collapsed": true
   },
   "outputs": [],
   "source": [
    "ip_count = train.groupby('ip')['ip','attributed_time','attribute_ip'].count().reset_index(drop=True)"
   ]
  },
  {
   "cell_type": "code",
   "execution_count": 272,
   "metadata": {
    "collapsed": true
   },
   "outputs": [],
   "source": [
    "ip_count.drop('ip',axis=1,inplace=True)"
   ]
  },
  {
   "cell_type": "code",
   "execution_count": 273,
   "metadata": {},
   "outputs": [
    {
     "data": {
      "text/plain": [
       "<matplotlib.axes._subplots.AxesSubplot at 0x2bbae6fd0>"
      ]
     },
     "execution_count": 273,
     "metadata": {},
     "output_type": "execute_result"
    },
    {
     "data": {
      "image/png": "[encoded data removed]",
      "text/plain": [
       "<matplotlib.figure.Figure at 0x2bbae6898>"
      ]
     },
     "metadata": {},
     "output_type": "display_data"
    }
   ],
   "source": [
    "ip_count[ip_count.attributed_time == 1]['attribute_ip'].hist(bins=100)"
   ]
  },
  {
   "cell_type": "code",
   "execution_count": 274,
   "metadata": {},
   "outputs": [
    {
     "data": {
      "text/plain": [
       "(array([  3.51353790e-01,   1.23126210e-01,   8.48125381e-02,\n",
       "          9.86577060e-02,   1.48030097e-01,   1.34010776e-01,\n",
       "          8.42900789e-02,   2.97801725e-02,   5.13751514e-03,\n",
       "          1.74153056e-04]),\n",
       " array([ 0.        ,  0.94395455,  1.8879091 ,  2.83186365,  3.77581821,\n",
       "         4.71977276,  5.66372731,  6.60768186,  7.55163641,  8.49559096,\n",
       "         9.43954551]),\n",
       " <a list of 10 Patch objects>)"
      ]
     },
     "execution_count": 274,
     "metadata": {},
     "output_type": "execute_result"
    },
    {
     "data": {
      "image/png": "[encoded data removed]",
      "text/plain": [
       "<matplotlib.figure.Figure at 0x2443a0668>"
      ]
     },
     "metadata": {},
     "output_type": "display_data"
    }
   ],
   "source": [
    "plt.hist(np.log(ip_count[ip_count.attributed_time == 0]['attribute_ip'].values), normed=True, alpha=0.5)#.hist(bins=100)\n",
    "plt.hist(np.log(ip_count[ip_count.attributed_time == 1]['attribute_ip'].values), normed=True, alpha=0.5)"
   ]
  },
  {
   "cell_type": "markdown",
   "metadata": {},
   "source": [
    "Np log on count may help differentiate individuals who are likely to be attribute vs individuals who may not be. "
   ]
  },
  {
   "cell_type": "markdown",
   "metadata": {},
   "source": [
    "## EDA Across Time"
   ]
  },
  {
   "cell_type": "code",
   "execution_count": 262,
   "metadata": {
    "collapsed": true
   },
   "outputs": [],
   "source": [
    "train['click_time'] = train['click_time'].astype('str')"
   ]
  },
  {
   "cell_type": "code",
   "execution_count": 263,
   "metadata": {
    "collapsed": true
   },
   "outputs": [],
   "source": [
    "train['click_time_no_seconds'] = train['click_time'].map(lambda x: x[:-3])"
   ]
  },
  {
   "cell_type": "code",
   "execution_count": 264,
   "metadata": {
    "collapsed": true
   },
   "outputs": [],
   "source": [
    "train['click_time_no_seconds'] = pd.to_datetime(train['click_time_no_seconds'])"
   ]
  },
  {
   "cell_type": "code",
   "execution_count": 265,
   "metadata": {
    "collapsed": true
   },
   "outputs": [],
   "source": [
    "click_rate_per_timestamp = train.groupby('click_time_no_seconds')['is_attributed'].apply(lambda x: sum(x) / len(x))"
   ]
  },
  {
   "cell_type": "code",
   "execution_count": 268,
   "metadata": {},
   "outputs": [
    {
     "data": {
      "image/png": "[encoded data removed]",
      "text/plain": [
       "<matplotlib.figure.Figure at 0x2ba3b2320>"
      ]
     },
     "metadata": {},
     "output_type": "display_data"
    }
   ],
   "source": [
    "import matplotlib.dates as dates \n",
    "\n",
    "f, ax = plt.subplots()\n",
    "click_rate_per_timestamp.plot(figsize=(18,7), ax=ax)\n",
    "\n",
    "ax.xaxis.set_minor_locator(dates.MinuteLocator(byminute=(list(range(0,60,10))), interval=1))\n",
    "ax.xaxis.set_minor_formatter(dates.DateFormatter('%M'))\n",
    "ax.xaxis.grid(True, which='minor')\n",
    "ax.yaxis.grid()\n",
    "\n",
    "ax.xaxis.set_major_locator(dates.HourLocator(byhour=(range(14,24,1)), interval=1))\n",
    "ax.xaxis.set_major_formatter(dates.DateFormatter('\\n\\n%H-Hour'))\n",
    "plt.xticks(fontsize=14, rotation=0)\n",
    "\n",
    "plt.show()"
   ]
  }
 ],
 "metadata": {
  "kernelspec": {
   "display_name": "Python 3",
   "language": "python",
   "name": "python3"
  },
  "language_info": {
   "codemirror_mode": {
    "name": "ipython",
    "version": 3
   },
   "file_extension": ".py",
   "mimetype": "text/x-python",
   "name": "python",
   "nbconvert_exporter": "python",
   "pygments_lexer": "ipython3",
   "version": "3.6.3"
  }
 },
 "nbformat": 4,
 "nbformat_minor": 2
}
